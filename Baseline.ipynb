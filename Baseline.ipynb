{
 "cells": [
  {
   "cell_type": "code",
   "execution_count": 1,
   "metadata": {},
   "outputs": [],
   "source": [
    "train_path = \"../new_train/new_train\"\n",
    "val_path = \"../new_val_in/new_val_in\"\n",
    "submission_path = \"../sample_submission.csv\"\n",
    "submission_dir = \"../submissions\""
   ]
  },
  {
   "cell_type": "code",
   "execution_count": 2,
   "metadata": {},
   "outputs": [],
   "source": [
    "NUM_EPOCH = 1\n",
    "BATCH_SIZE = 64\n",
    "LEARNING_RATE = 1e-3"
   ]
  },
  {
   "cell_type": "code",
   "execution_count": 3,
   "metadata": {},
   "outputs": [],
   "source": [
    "import os\n",
    "import pickle\n",
    "import numpy as np\n",
    "from glob import glob\n",
    "import pandas as pd\n",
    "from tqdm import tqdm\n",
    "from typing import Tuple\n",
    "import matplotlib.pyplot as plt\n",
    "\n",
    "import torch\n",
    "from torch.utils.data import Dataset, DataLoader"
   ]
  },
  {
   "cell_type": "markdown",
   "metadata": {},
   "source": [
    "# Data"
   ]
  },
  {
   "cell_type": "code",
   "execution_count": 4,
   "metadata": {},
   "outputs": [],
   "source": [
    "class ArgoverseDataset(Dataset):\n",
    "    def __init__(self, data_path: str, transform=None):\n",
    "        super(ArgoverseDataset, self).__init__()\n",
    "        self.data_path = data_path\n",
    "        self.transform = transform\n",
    "\n",
    "        self.pkl_list = glob(os.path.join(self.data_path, '*'))\n",
    "        self.pkl_list.sort()\n",
    "        \n",
    "    def __len__(self):\n",
    "        return len(self.pkl_list)\n",
    "\n",
    "    def __getitem__(self, idx):\n",
    "\n",
    "        pkl_path = self.pkl_list[idx]\n",
    "        with open(pkl_path, 'rb') as f:\n",
    "            data = pickle.load(f)\n",
    "        \n",
    "        if self.transform:\n",
    "            data = self.transform(data)\n",
    "\n",
    "        return data"
   ]
  },
  {
   "cell_type": "markdown",
   "metadata": {},
   "source": [
    "Train dataset has 205942 data samples, each sample is a dictionary that contains information on a individual scene. Each dictionary (scene) contains 11 different fields. More resources here to understand the dataset: https://www.kaggle.com/c/cse151b-spring/discussion/233734"
   ]
  },
  {
   "cell_type": "code",
   "execution_count": 5,
   "metadata": {},
   "outputs": [
    {
     "data": {
      "text/plain": [
       "array([[['00000000-0000-0000-0000-000000000007'],\n",
       "        ['00000000-0000-0000-0000-000000000007'],\n",
       "        ['00000000-0000-0000-0000-000000000007'],\n",
       "        ...,\n",
       "        ['00000000-0000-0000-0000-000000000007'],\n",
       "        ['00000000-0000-0000-0000-000000000007'],\n",
       "        ['00000000-0000-0000-0000-000000000007']],\n",
       "\n",
       "       [['00000000-0000-0000-0000-000000000007'],\n",
       "        ['00000000-0000-0000-0000-000000000007'],\n",
       "        ['00000000-0000-0000-0000-000000000007'],\n",
       "        ...,\n",
       "        ['00000000-0000-0000-0000-000000000007'],\n",
       "        ['00000000-0000-0000-0000-000000000007'],\n",
       "        ['00000000-0000-0000-0000-000000000007']],\n",
       "\n",
       "       [['00000000-0000-0000-0000-000000000007'],\n",
       "        ['00000000-0000-0000-0000-000000000007'],\n",
       "        ['00000000-0000-0000-0000-000000000007'],\n",
       "        ...,\n",
       "        ['00000000-0000-0000-0000-000000000007'],\n",
       "        ['00000000-0000-0000-0000-000000000007'],\n",
       "        ['00000000-0000-0000-0000-000000000007']],\n",
       "\n",
       "       ...,\n",
       "\n",
       "       [['00000000-0000-0000-0000-000000000000'],\n",
       "        ['00000000-0000-0000-0000-000000000000'],\n",
       "        ['00000000-0000-0000-0000-000000000000'],\n",
       "        ...,\n",
       "        ['00000000-0000-0000-0000-000000000000'],\n",
       "        ['00000000-0000-0000-0000-000000000000'],\n",
       "        ['00000000-0000-0000-0000-000000000000']],\n",
       "\n",
       "       [['00000000-0000-0000-0000-000000000000'],\n",
       "        ['00000000-0000-0000-0000-000000000000'],\n",
       "        ['00000000-0000-0000-0000-000000000000'],\n",
       "        ...,\n",
       "        ['00000000-0000-0000-0000-000000000000'],\n",
       "        ['00000000-0000-0000-0000-000000000000'],\n",
       "        ['00000000-0000-0000-0000-000000000000']],\n",
       "\n",
       "       [['00000000-0000-0000-0000-000000000000'],\n",
       "        ['00000000-0000-0000-0000-000000000000'],\n",
       "        ['00000000-0000-0000-0000-000000000000'],\n",
       "        ...,\n",
       "        ['00000000-0000-0000-0000-000000000000'],\n",
       "        ['00000000-0000-0000-0000-000000000000'],\n",
       "        ['00000000-0000-0000-0000-000000000000']]], dtype=object)"
      ]
     },
     "execution_count": 5,
     "metadata": {},
     "output_type": "execute_result"
    }
   ],
   "source": [
    "train = ArgoverseDataset(data_path=train_path)\n",
    "val = ArgoverseDataset(data_path=val_path)\n",
    "train_0 = train[0]\n",
    "track_id = train_0['track_id']\n",
    "car_mask = train_0['car_mask']\n",
    "actual_objects = track_id[car_mask.reshape([-1]).astype(int)]\n",
    "actual_objects"
   ]
  },
  {
   "cell_type": "code",
   "execution_count": 6,
   "metadata": {},
   "outputs": [
    {
     "data": {
      "text/plain": [
       "[tensor([[[ 3.2354e+03,  1.9295e+03,  2.5700e-01,  3.1313e-01],\n",
       "          [ 3.2359e+03,  1.9298e+03,  4.6091e+00,  3.1098e+00],\n",
       "          [ 3.2359e+03,  1.9299e+03,  8.8960e-01,  1.0443e+00],\n",
       "          ...,\n",
       "          [ 3.2431e+03,  1.9365e+03,  2.8242e+00,  1.9251e+00],\n",
       "          [ 3.2434e+03,  1.9367e+03,  2.6001e+00,  1.8116e+00],\n",
       "          [ 3.2439e+03,  1.9371e+03,  5.0465e+00,  4.3822e+00]],\n",
       " \n",
       "         [[ 8.2398e+02,  2.0614e+03, -1.9209e-01, -1.3550e-01],\n",
       "          [ 8.2398e+02,  2.0615e+03, -3.1030e-02,  5.0042e-02],\n",
       "          [ 8.2398e+02,  2.0615e+03,  5.0020e-03,  4.2677e-01],\n",
       "          ...,\n",
       "          [ 8.2395e+02,  2.0616e+03, -4.7582e-01,  2.9586e-01],\n",
       "          [ 8.2409e+02,  2.0614e+03,  1.4007e+00, -1.9915e+00],\n",
       "          [ 8.2408e+02,  2.0613e+03, -1.2219e-01, -3.2250e-01]],\n",
       " \n",
       "         [[ 3.0105e+03,  1.5922e+03, -4.0253e-01, -3.1084e-01],\n",
       "          [ 3.0105e+03,  1.5922e+03, -8.0196e-02,  1.3128e-01],\n",
       "          [ 3.0106e+03,  1.5922e+03,  9.4546e-01,  4.9641e-02],\n",
       "          ...,\n",
       "          [ 3.0099e+03,  1.5919e+03, -2.7650e-01,  1.2001e-01],\n",
       "          [ 3.0100e+03,  1.5919e+03,  2.3649e-01,  1.6711e-01],\n",
       "          [ 3.0100e+03,  1.5919e+03, -6.7015e-02, -6.1688e-01]],\n",
       " \n",
       "         ...,\n",
       " \n",
       "         [[ 2.5323e+03,  1.0239e+03,  6.0634e+00,  5.6393e+00],\n",
       "          [ 2.5329e+03,  1.0246e+03,  6.1908e+00,  6.7786e+00],\n",
       "          [ 2.5334e+03,  1.0251e+03,  4.7500e+00,  5.3104e+00],\n",
       "          ...,\n",
       "          [ 2.5427e+03,  1.0334e+03,  6.2840e+00,  3.7237e+00],\n",
       "          [ 2.5429e+03,  1.0337e+03,  2.5724e+00,  2.5781e+00],\n",
       "          [ 2.5441e+03,  1.0346e+03,  1.1648e+01,  9.8081e+00]],\n",
       " \n",
       "         [[ 6.7958e+02,  2.5034e+03,  3.4522e-01,  1.6147e-02],\n",
       "          [ 6.7957e+02,  2.5034e+03, -8.7336e-02, -7.6770e-02],\n",
       "          [ 6.7954e+02,  2.5033e+03, -3.1915e-01, -6.4066e-01],\n",
       "          ...,\n",
       "          [ 6.7953e+02,  2.5033e+03, -3.2489e-01, -4.0177e-01],\n",
       "          [ 6.7951e+02,  2.5033e+03, -1.3404e-01,  1.4281e-01],\n",
       "          [ 6.7951e+02,  2.5033e+03, -4.2096e-02, -1.5046e-01]],\n",
       " \n",
       "         [[ 7.6615e+02,  2.2509e+03,  5.3684e-01, -4.8201e-01],\n",
       "          [ 7.6623e+02,  2.2509e+03,  8.0436e-01, -4.9174e-02],\n",
       "          [ 7.6619e+02,  2.2509e+03, -4.0362e-01,  2.2411e-01],\n",
       "          ...,\n",
       "          [ 7.6615e+02,  2.2509e+03, -6.8271e-02, -1.8977e-01],\n",
       "          [ 7.6616e+02,  2.2509e+03,  1.0098e-01,  1.2040e-01],\n",
       "          [ 7.6609e+02,  2.2510e+03, -6.7943e-01,  6.3621e-01]]]),\n",
       " tensor([[[ 3.2441e+03,  1.9374e+03,  2.6369e+00,  2.2576e+00],\n",
       "          [ 3.2444e+03,  1.9376e+03,  2.7815e+00,  2.5117e+00],\n",
       "          [ 3.2447e+03,  1.9379e+03,  3.0544e+00,  2.8129e+00],\n",
       "          ...,\n",
       "          [ 3.2563e+03,  1.9488e+03,  4.6614e+00,  4.3478e+00],\n",
       "          [ 3.2567e+03,  1.9492e+03,  4.5513e+00,  3.9482e+00],\n",
       "          [ 3.2567e+03,  1.9492e+03,  0.0000e+00,  0.0000e+00]],\n",
       " \n",
       "         [[ 8.2413e+02,  2.0613e+03,  5.5071e-01,  2.2146e-01],\n",
       "          [ 8.2412e+02,  2.0613e+03, -6.5331e-02, -5.6807e-01],\n",
       "          [ 8.2412e+02,  2.0612e+03, -3.0713e-02, -4.9346e-01],\n",
       "          ...,\n",
       "          [ 8.2393e+02,  2.0614e+03,  5.4002e-01, -2.1927e+00],\n",
       "          [ 8.2393e+02,  2.0617e+03, -6.0883e-02,  2.9651e+00],\n",
       "          [ 8.2393e+02,  2.0616e+03,  6.3549e-02, -1.4522e+00]],\n",
       " \n",
       "         [[ 3.0098e+03,  1.5916e+03, -1.9816e+00, -2.4348e+00],\n",
       "          [ 3.0098e+03,  1.5917e+03,  7.6478e-01,  1.0053e+00],\n",
       "          [ 3.0098e+03,  1.5918e+03, -3.7273e-01,  6.2299e-01],\n",
       "          ...,\n",
       "          [ 3.0093e+03,  1.5910e+03, -1.7458e+00, -3.4973e+00],\n",
       "          [ 3.0094e+03,  1.5909e+03,  6.5900e-01, -1.8564e-01],\n",
       "          [ 3.0093e+03,  1.5908e+03, -2.2708e-01, -1.7666e+00]],\n",
       " \n",
       "         ...,\n",
       " \n",
       "         [[ 2.5443e+03,  1.0350e+03,  2.3690e+00,  3.6638e+00],\n",
       "          [ 2.5443e+03,  1.0365e+03, -1.4091e-01,  1.4913e+01],\n",
       "          [ 2.5457e+03,  1.0362e+03,  1.4143e+01, -2.9834e+00],\n",
       "          ...,\n",
       "          [ 2.5662e+03,  1.0555e+03,  7.9121e+00,  8.6845e+00],\n",
       "          [ 2.5667e+03,  1.0559e+03,  5.3313e+00,  3.4663e+00],\n",
       "          [ 2.5680e+03,  1.0572e+03,  1.2722e+01,  1.3401e+01]],\n",
       " \n",
       "         [[ 6.7949e+02,  2.5033e+03, -2.2984e-01, -3.5746e-02],\n",
       "          [ 6.7954e+02,  2.5033e+03,  5.1216e-01,  2.7727e-01],\n",
       "          [ 6.7957e+02,  2.5034e+03,  3.5215e-01,  6.3678e-01],\n",
       "          ...,\n",
       "          [ 6.7944e+02,  2.5034e+03, -1.0910e+00,  6.9137e-01],\n",
       "          [ 6.7957e+02,  2.5034e+03,  1.2179e+00, -8.3174e-02],\n",
       "          [ 6.7952e+02,  2.5033e+03, -4.8334e-01, -1.2579e+00]],\n",
       " \n",
       "         [[ 7.6620e+02,  2.2510e+03,  1.1417e+00,  1.9328e-01],\n",
       "          [ 7.6609e+02,  2.2510e+03, -1.1237e+00, -3.6823e-01],\n",
       "          [ 7.6606e+02,  2.2510e+03, -2.8493e-01,  2.7647e-01],\n",
       "          ...,\n",
       "          [ 7.6602e+02,  2.2508e+03, -4.9116e-01, -1.8974e+00],\n",
       "          [ 7.6602e+02,  2.2508e+03,  6.7075e-11,  9.4587e-10],\n",
       "          [ 7.6609e+02,  2.2509e+03,  6.7595e-01,  1.0989e+00]]])]"
      ]
     },
     "execution_count": 6,
     "metadata": {},
     "output_type": "execute_result"
    }
   ],
   "source": [
    "def my_collate(batch):\n",
    "    \"\"\" collate lists of samples into batches, create [ batch_sz x agent_sz x seq_len x feature] \"\"\"  \n",
    "    agent_idx = np.where(train_0[\"agent_id\"] == np.unique(train_0[\"track_id\"].flatten()))[0][0]\n",
    "    inp = np.array([np.hstack(\n",
    "        [scene['p_in'][agent_idx], \n",
    "         scene['v_in'][agent_idx],\n",
    "         ]\n",
    "    ) for scene in batch])\n",
    "    out = np.array([np.hstack(\n",
    "        [scene['p_out'][agent_idx],\n",
    "         scene['v_out'][agent_idx]]\n",
    "    ) for scene in batch])\n",
    "    inp = torch.FloatTensor(inp)\n",
    "    out = torch.FloatTensor(out)\n",
    "    return [inp, out]\n",
    "\n",
    "train_loader = DataLoader(train, batch_size=BATCH_SIZE, shuffle = False, collate_fn=my_collate, num_workers=0)\n",
    "val_loader = DataLoader(val, batch_size=BATCH_SIZE, shuffle = False, collate_fn=my_collate, num_workers=0)\n",
    "example = iter(train_loader)\n",
    "\n",
    "# each example consists of: [inp tensor, out tensor], inp tensor has shape 64x19x4, out tensor has shape \n",
    "# 64x30x4. 64 is the batch size, each input in the batch is 19x4, which is two vectors stacked together: \n",
    "# the position vector (p_in) which is 19x2 and contains position information (x, y coordinates), and the\n",
    "# velocity vector (v_in) which is 19x2 and contains velocity information (x, y velocity). These are position\n",
    "# and velocities that lasted for 2 seconds, 10 samples are recorded per second (hence 19 samples)\n",
    "# each output vector is 20x4, pretty much contain the same position and velocity information as the input\n",
    "# tensor, except it will last for 3 seconds instead of 2, hence 30 samples. Our task is to try to predict \n",
    "# the output position and velocity.\n",
    "example.next()"
   ]
  },
  {
   "cell_type": "code",
   "execution_count": 7,
   "metadata": {},
   "outputs": [
    {
     "data": {
      "text/html": [
       "<div>\n",
       "<style scoped>\n",
       "    .dataframe tbody tr th:only-of-type {\n",
       "        vertical-align: middle;\n",
       "    }\n",
       "\n",
       "    .dataframe tbody tr th {\n",
       "        vertical-align: top;\n",
       "    }\n",
       "\n",
       "    .dataframe thead th {\n",
       "        text-align: right;\n",
       "    }\n",
       "</style>\n",
       "<table border=\"1\" class=\"dataframe\">\n",
       "  <thead>\n",
       "    <tr style=\"text-align: right;\">\n",
       "      <th></th>\n",
       "      <th>ID</th>\n",
       "      <th>v1</th>\n",
       "      <th>v2</th>\n",
       "      <th>v3</th>\n",
       "      <th>v4</th>\n",
       "      <th>v5</th>\n",
       "      <th>v6</th>\n",
       "      <th>v7</th>\n",
       "      <th>v8</th>\n",
       "      <th>v9</th>\n",
       "      <th>...</th>\n",
       "      <th>v51</th>\n",
       "      <th>v52</th>\n",
       "      <th>v53</th>\n",
       "      <th>v54</th>\n",
       "      <th>v55</th>\n",
       "      <th>v56</th>\n",
       "      <th>v57</th>\n",
       "      <th>v58</th>\n",
       "      <th>v59</th>\n",
       "      <th>v60</th>\n",
       "    </tr>\n",
       "  </thead>\n",
       "  <tbody>\n",
       "    <tr>\n",
       "      <th>0</th>\n",
       "      <td>10002</td>\n",
       "      <td>0.0</td>\n",
       "      <td>0.0</td>\n",
       "      <td>0.0</td>\n",
       "      <td>0.0</td>\n",
       "      <td>0.0</td>\n",
       "      <td>0.0</td>\n",
       "      <td>0.0</td>\n",
       "      <td>0.0</td>\n",
       "      <td>0.0</td>\n",
       "      <td>...</td>\n",
       "      <td>0.0</td>\n",
       "      <td>0.0</td>\n",
       "      <td>0.0</td>\n",
       "      <td>0.0</td>\n",
       "      <td>0.0</td>\n",
       "      <td>0.0</td>\n",
       "      <td>0.0</td>\n",
       "      <td>0.0</td>\n",
       "      <td>0.0</td>\n",
       "      <td>0.0</td>\n",
       "    </tr>\n",
       "    <tr>\n",
       "      <th>1</th>\n",
       "      <td>10015</td>\n",
       "      <td>0.0</td>\n",
       "      <td>0.0</td>\n",
       "      <td>0.0</td>\n",
       "      <td>0.0</td>\n",
       "      <td>0.0</td>\n",
       "      <td>0.0</td>\n",
       "      <td>0.0</td>\n",
       "      <td>0.0</td>\n",
       "      <td>0.0</td>\n",
       "      <td>...</td>\n",
       "      <td>0.0</td>\n",
       "      <td>0.0</td>\n",
       "      <td>0.0</td>\n",
       "      <td>0.0</td>\n",
       "      <td>0.0</td>\n",
       "      <td>0.0</td>\n",
       "      <td>0.0</td>\n",
       "      <td>0.0</td>\n",
       "      <td>0.0</td>\n",
       "      <td>0.0</td>\n",
       "    </tr>\n",
       "    <tr>\n",
       "      <th>2</th>\n",
       "      <td>10019</td>\n",
       "      <td>0.0</td>\n",
       "      <td>0.0</td>\n",
       "      <td>0.0</td>\n",
       "      <td>0.0</td>\n",
       "      <td>0.0</td>\n",
       "      <td>0.0</td>\n",
       "      <td>0.0</td>\n",
       "      <td>0.0</td>\n",
       "      <td>0.0</td>\n",
       "      <td>...</td>\n",
       "      <td>0.0</td>\n",
       "      <td>0.0</td>\n",
       "      <td>0.0</td>\n",
       "      <td>0.0</td>\n",
       "      <td>0.0</td>\n",
       "      <td>0.0</td>\n",
       "      <td>0.0</td>\n",
       "      <td>0.0</td>\n",
       "      <td>0.0</td>\n",
       "      <td>0.0</td>\n",
       "    </tr>\n",
       "    <tr>\n",
       "      <th>3</th>\n",
       "      <td>10028</td>\n",
       "      <td>0.0</td>\n",
       "      <td>0.0</td>\n",
       "      <td>0.0</td>\n",
       "      <td>0.0</td>\n",
       "      <td>0.0</td>\n",
       "      <td>0.0</td>\n",
       "      <td>0.0</td>\n",
       "      <td>0.0</td>\n",
       "      <td>0.0</td>\n",
       "      <td>...</td>\n",
       "      <td>0.0</td>\n",
       "      <td>0.0</td>\n",
       "      <td>0.0</td>\n",
       "      <td>0.0</td>\n",
       "      <td>0.0</td>\n",
       "      <td>0.0</td>\n",
       "      <td>0.0</td>\n",
       "      <td>0.0</td>\n",
       "      <td>0.0</td>\n",
       "      <td>0.0</td>\n",
       "    </tr>\n",
       "    <tr>\n",
       "      <th>4</th>\n",
       "      <td>1003</td>\n",
       "      <td>0.0</td>\n",
       "      <td>0.0</td>\n",
       "      <td>0.0</td>\n",
       "      <td>0.0</td>\n",
       "      <td>0.0</td>\n",
       "      <td>0.0</td>\n",
       "      <td>0.0</td>\n",
       "      <td>0.0</td>\n",
       "      <td>0.0</td>\n",
       "      <td>...</td>\n",
       "      <td>0.0</td>\n",
       "      <td>0.0</td>\n",
       "      <td>0.0</td>\n",
       "      <td>0.0</td>\n",
       "      <td>0.0</td>\n",
       "      <td>0.0</td>\n",
       "      <td>0.0</td>\n",
       "      <td>0.0</td>\n",
       "      <td>0.0</td>\n",
       "      <td>0.0</td>\n",
       "    </tr>\n",
       "    <tr>\n",
       "      <th>...</th>\n",
       "      <td>...</td>\n",
       "      <td>...</td>\n",
       "      <td>...</td>\n",
       "      <td>...</td>\n",
       "      <td>...</td>\n",
       "      <td>...</td>\n",
       "      <td>...</td>\n",
       "      <td>...</td>\n",
       "      <td>...</td>\n",
       "      <td>...</td>\n",
       "      <td>...</td>\n",
       "      <td>...</td>\n",
       "      <td>...</td>\n",
       "      <td>...</td>\n",
       "      <td>...</td>\n",
       "      <td>...</td>\n",
       "      <td>...</td>\n",
       "      <td>...</td>\n",
       "      <td>...</td>\n",
       "      <td>...</td>\n",
       "      <td>...</td>\n",
       "    </tr>\n",
       "    <tr>\n",
       "      <th>3195</th>\n",
       "      <td>9897</td>\n",
       "      <td>0.0</td>\n",
       "      <td>0.0</td>\n",
       "      <td>0.0</td>\n",
       "      <td>0.0</td>\n",
       "      <td>0.0</td>\n",
       "      <td>0.0</td>\n",
       "      <td>0.0</td>\n",
       "      <td>0.0</td>\n",
       "      <td>0.0</td>\n",
       "      <td>...</td>\n",
       "      <td>0.0</td>\n",
       "      <td>0.0</td>\n",
       "      <td>0.0</td>\n",
       "      <td>0.0</td>\n",
       "      <td>0.0</td>\n",
       "      <td>0.0</td>\n",
       "      <td>0.0</td>\n",
       "      <td>0.0</td>\n",
       "      <td>0.0</td>\n",
       "      <td>0.0</td>\n",
       "    </tr>\n",
       "    <tr>\n",
       "      <th>3196</th>\n",
       "      <td>99</td>\n",
       "      <td>0.0</td>\n",
       "      <td>0.0</td>\n",
       "      <td>0.0</td>\n",
       "      <td>0.0</td>\n",
       "      <td>0.0</td>\n",
       "      <td>0.0</td>\n",
       "      <td>0.0</td>\n",
       "      <td>0.0</td>\n",
       "      <td>0.0</td>\n",
       "      <td>...</td>\n",
       "      <td>0.0</td>\n",
       "      <td>0.0</td>\n",
       "      <td>0.0</td>\n",
       "      <td>0.0</td>\n",
       "      <td>0.0</td>\n",
       "      <td>0.0</td>\n",
       "      <td>0.0</td>\n",
       "      <td>0.0</td>\n",
       "      <td>0.0</td>\n",
       "      <td>0.0</td>\n",
       "    </tr>\n",
       "    <tr>\n",
       "      <th>3197</th>\n",
       "      <td>9905</td>\n",
       "      <td>0.0</td>\n",
       "      <td>0.0</td>\n",
       "      <td>0.0</td>\n",
       "      <td>0.0</td>\n",
       "      <td>0.0</td>\n",
       "      <td>0.0</td>\n",
       "      <td>0.0</td>\n",
       "      <td>0.0</td>\n",
       "      <td>0.0</td>\n",
       "      <td>...</td>\n",
       "      <td>0.0</td>\n",
       "      <td>0.0</td>\n",
       "      <td>0.0</td>\n",
       "      <td>0.0</td>\n",
       "      <td>0.0</td>\n",
       "      <td>0.0</td>\n",
       "      <td>0.0</td>\n",
       "      <td>0.0</td>\n",
       "      <td>0.0</td>\n",
       "      <td>0.0</td>\n",
       "    </tr>\n",
       "    <tr>\n",
       "      <th>3198</th>\n",
       "      <td>9910</td>\n",
       "      <td>0.0</td>\n",
       "      <td>0.0</td>\n",
       "      <td>0.0</td>\n",
       "      <td>0.0</td>\n",
       "      <td>0.0</td>\n",
       "      <td>0.0</td>\n",
       "      <td>0.0</td>\n",
       "      <td>0.0</td>\n",
       "      <td>0.0</td>\n",
       "      <td>...</td>\n",
       "      <td>0.0</td>\n",
       "      <td>0.0</td>\n",
       "      <td>0.0</td>\n",
       "      <td>0.0</td>\n",
       "      <td>0.0</td>\n",
       "      <td>0.0</td>\n",
       "      <td>0.0</td>\n",
       "      <td>0.0</td>\n",
       "      <td>0.0</td>\n",
       "      <td>0.0</td>\n",
       "    </tr>\n",
       "    <tr>\n",
       "      <th>3199</th>\n",
       "      <td>9918</td>\n",
       "      <td>0.0</td>\n",
       "      <td>0.0</td>\n",
       "      <td>0.0</td>\n",
       "      <td>0.0</td>\n",
       "      <td>0.0</td>\n",
       "      <td>0.0</td>\n",
       "      <td>0.0</td>\n",
       "      <td>0.0</td>\n",
       "      <td>0.0</td>\n",
       "      <td>...</td>\n",
       "      <td>0.0</td>\n",
       "      <td>0.0</td>\n",
       "      <td>0.0</td>\n",
       "      <td>0.0</td>\n",
       "      <td>0.0</td>\n",
       "      <td>0.0</td>\n",
       "      <td>0.0</td>\n",
       "      <td>0.0</td>\n",
       "      <td>0.0</td>\n",
       "      <td>0.0</td>\n",
       "    </tr>\n",
       "  </tbody>\n",
       "</table>\n",
       "<p>3200 rows × 61 columns</p>\n",
       "</div>"
      ],
      "text/plain": [
       "         ID   v1   v2   v3   v4   v5   v6   v7   v8   v9  ...  v51  v52  v53  \\\n",
       "0     10002  0.0  0.0  0.0  0.0  0.0  0.0  0.0  0.0  0.0  ...  0.0  0.0  0.0   \n",
       "1     10015  0.0  0.0  0.0  0.0  0.0  0.0  0.0  0.0  0.0  ...  0.0  0.0  0.0   \n",
       "2     10019  0.0  0.0  0.0  0.0  0.0  0.0  0.0  0.0  0.0  ...  0.0  0.0  0.0   \n",
       "3     10028  0.0  0.0  0.0  0.0  0.0  0.0  0.0  0.0  0.0  ...  0.0  0.0  0.0   \n",
       "4      1003  0.0  0.0  0.0  0.0  0.0  0.0  0.0  0.0  0.0  ...  0.0  0.0  0.0   \n",
       "...     ...  ...  ...  ...  ...  ...  ...  ...  ...  ...  ...  ...  ...  ...   \n",
       "3195   9897  0.0  0.0  0.0  0.0  0.0  0.0  0.0  0.0  0.0  ...  0.0  0.0  0.0   \n",
       "3196     99  0.0  0.0  0.0  0.0  0.0  0.0  0.0  0.0  0.0  ...  0.0  0.0  0.0   \n",
       "3197   9905  0.0  0.0  0.0  0.0  0.0  0.0  0.0  0.0  0.0  ...  0.0  0.0  0.0   \n",
       "3198   9910  0.0  0.0  0.0  0.0  0.0  0.0  0.0  0.0  0.0  ...  0.0  0.0  0.0   \n",
       "3199   9918  0.0  0.0  0.0  0.0  0.0  0.0  0.0  0.0  0.0  ...  0.0  0.0  0.0   \n",
       "\n",
       "      v54  v55  v56  v57  v58  v59  v60  \n",
       "0     0.0  0.0  0.0  0.0  0.0  0.0  0.0  \n",
       "1     0.0  0.0  0.0  0.0  0.0  0.0  0.0  \n",
       "2     0.0  0.0  0.0  0.0  0.0  0.0  0.0  \n",
       "3     0.0  0.0  0.0  0.0  0.0  0.0  0.0  \n",
       "4     0.0  0.0  0.0  0.0  0.0  0.0  0.0  \n",
       "...   ...  ...  ...  ...  ...  ...  ...  \n",
       "3195  0.0  0.0  0.0  0.0  0.0  0.0  0.0  \n",
       "3196  0.0  0.0  0.0  0.0  0.0  0.0  0.0  \n",
       "3197  0.0  0.0  0.0  0.0  0.0  0.0  0.0  \n",
       "3198  0.0  0.0  0.0  0.0  0.0  0.0  0.0  \n",
       "3199  0.0  0.0  0.0  0.0  0.0  0.0  0.0  \n",
       "\n",
       "[3200 rows x 61 columns]"
      ]
     },
     "execution_count": 7,
     "metadata": {},
     "output_type": "execute_result"
    }
   ],
   "source": [
    "submission = pd.read_csv(submission_path)\n",
    "submission"
   ]
  },
  {
   "cell_type": "markdown",
   "metadata": {},
   "source": [
    "# Explore"
   ]
  },
  {
   "cell_type": "code",
   "execution_count": 8,
   "metadata": {},
   "outputs": [],
   "source": [
    "train_0 = train[0]"
   ]
  },
  {
   "cell_type": "code",
   "execution_count": 9,
   "metadata": {},
   "outputs": [
    {
     "data": {
      "text/plain": [
       "(60, 19, 2)"
      ]
     },
     "execution_count": 9,
     "metadata": {},
     "output_type": "execute_result"
    }
   ],
   "source": [
    "train_0['p_in'].shape"
   ]
  },
  {
   "cell_type": "code",
   "execution_count": 10,
   "metadata": {},
   "outputs": [
    {
     "name": "stdout",
     "output_type": "stream",
     "text": [
      "dict_keys(['city', 'lane', 'lane_norm', 'scene_idx', 'agent_id', 'car_mask', 'p_in', 'v_in', 'p_out', 'v_out', 'track_id'])\n",
      "(60, 19, 2) (60, 30, 2)\n",
      "(60, 30, 1)\n",
      "00000000-0000-0000-0000-000000000062\n"
     ]
    },
    {
     "data": {
      "text/plain": [
       "<matplotlib.collections.PathCollection at 0x1d4695030a0>"
      ]
     },
     "execution_count": 10,
     "metadata": {},
     "output_type": "execute_result"
    },
    {
     "data": {
      "image/png": "[encoded data removed]",
      "text/plain": [
       "<Figure size 432x288 with 1 Axes>"
      ]
     },
     "metadata": {
      "needs_background": "light"
     },
     "output_type": "display_data"
    }
   ],
   "source": [
    "import matplotlib.pyplot as plt\n",
    "\n",
    "scene = train[0]\n",
    "print(train[0].keys())\n",
    "\n",
    "pos_in = scene[\"v_in\"]\n",
    "pos_out = scene[\"v_out\"]\n",
    "print(pos_in.shape, pos_out.shape)\n",
    "track_id = scene[\"track_id\"]\n",
    "print(track_id.shape)\n",
    "car_id  = 2\n",
    "agent_id = scene[\"agent_id\"]\n",
    "print(agent_id)\n",
    "plt.scatter(pos_in[car_id,:,0], pos_in[car_id,:,1])\n",
    "plt.scatter(pos_out[car_id,:,0], pos_out[car_id,:,1])"
   ]
  },
  {
   "cell_type": "code",
   "execution_count": null,
   "metadata": {},
   "outputs": [],
   "source": []
  },
  {
   "cell_type": "code",
   "execution_count": null,
   "metadata": {},
   "outputs": [],
   "source": []
  },
  {
   "cell_type": "markdown",
   "metadata": {},
   "source": [
    "# Baseline (Constant velocity)"
   ]
  },
  {
   "cell_type": "code",
   "execution_count": 11,
   "metadata": {},
   "outputs": [],
   "source": [
    "train_0 = train[2323]"
   ]
  },
  {
   "cell_type": "code",
   "execution_count": 12,
   "metadata": {},
   "outputs": [
    {
     "data": {
      "text/plain": [
       "'00000000-0000-0000-0000-000000014742'"
      ]
     },
     "execution_count": 12,
     "metadata": {},
     "output_type": "execute_result"
    }
   ],
   "source": [
    "train_0['p_in']\n",
    "train_0['track_id'][:, :, 0]\n",
    "train_0['agent_id']"
   ]
  },
  {
   "cell_type": "code",
   "execution_count": 13,
   "metadata": {},
   "outputs": [
    {
     "data": {
      "text/plain": [
       "array([[ 568.38769531, 2098.21240234],\n",
       "       [ 568.30877686, 2095.91650391],\n",
       "       [ 568.55822754, 2095.08422852],\n",
       "       [ 568.50262451, 2093.97949219],\n",
       "       [ 568.68048096, 2093.05029297],\n",
       "       [ 568.45727539, 2091.95922852],\n",
       "       [ 568.59118652, 2090.98071289],\n",
       "       [ 568.79071045, 2090.078125  ],\n",
       "       [ 568.73016357, 2088.91430664],\n",
       "       [ 568.71337891, 2088.06567383],\n",
       "       [ 568.86688232, 2086.9675293 ],\n",
       "       [ 568.77008057, 2085.92822266],\n",
       "       [ 568.71276855, 2084.92797852],\n",
       "       [ 568.78063965, 2083.88330078],\n",
       "       [ 568.89666748, 2082.72973633],\n",
       "       [ 568.90222168, 2082.15283203],\n",
       "       [ 568.89044189, 2081.23144531],\n",
       "       [ 568.84240723, 2080.14941406],\n",
       "       [ 568.82531738, 2079.04956055]])"
      ]
     },
     "execution_count": 13,
     "metadata": {},
     "output_type": "execute_result"
    }
   ],
   "source": [
    "train_0['p_in'][4]"
   ]
  },
  {
   "cell_type": "code",
   "execution_count": 14,
   "metadata": {},
   "outputs": [
    {
     "data": {
      "text/plain": [
       "'00000000-0000-0000-0000-000000014742'"
      ]
     },
     "execution_count": 14,
     "metadata": {},
     "output_type": "execute_result"
    }
   ],
   "source": [
    "train_0[\"agent_id\"]"
   ]
  },
  {
   "cell_type": "code",
   "execution_count": 15,
   "metadata": {},
   "outputs": [],
   "source": [
    "agent_idx = np.where(train_0[\"agent_id\"] == np.unique(train_0[\"track_id\"].flatten()))[0][0]"
   ]
  },
  {
   "cell_type": "code",
   "execution_count": 16,
   "metadata": {},
   "outputs": [
    {
     "data": {
      "text/plain": [
       "(19, 4)"
      ]
     },
     "execution_count": 16,
     "metadata": {},
     "output_type": "execute_result"
    }
   ],
   "source": [
    "np.hstack([scene['p_in'][agent_idx], scene['v_in'][agent_idx]]).shape "
   ]
  },
  {
   "cell_type": "code",
   "execution_count": 17,
   "metadata": {},
   "outputs": [
    {
     "data": {
      "text/plain": [
       "<matplotlib.collections.PathCollection at 0x1d469578490>"
      ]
     },
     "execution_count": 17,
     "metadata": {},
     "output_type": "execute_result"
    },
    {
     "data": {
      "image/png": "[encoded data removed]",
      "text/plain": [
       "<Figure size 432x288 with 1 Axes>"
      ]
     },
     "metadata": {
      "needs_background": "light"
     },
     "output_type": "display_data"
    }
   ],
   "source": [
    "plt.scatter(train_0[\"p_in\"][3][:, 0], train_0[\"p_in\"][3][:, 1])\n",
    "plt.scatter(train_0[\"p_out\"][3][:, 0], train_0[\"p_out\"][3][:, 1])"
   ]
  },
  {
   "cell_type": "markdown",
   "metadata": {},
   "source": [
    "# Preprocessing"
   ]
  },
  {
   "cell_type": "markdown",
   "metadata": {},
   "source": []
  },
  {
   "cell_type": "code",
   "execution_count": null,
   "metadata": {},
   "outputs": [],
   "source": []
  },
  {
   "cell_type": "code",
   "execution_count": null,
   "metadata": {},
   "outputs": [],
   "source": []
  },
  {
   "cell_type": "code",
   "execution_count": null,
   "metadata": {},
   "outputs": [],
   "source": []
  },
  {
   "cell_type": "code",
   "execution_count": null,
   "metadata": {},
   "outputs": [],
   "source": []
  },
  {
   "cell_type": "markdown",
   "metadata": {},
   "source": [
    "# Training"
   ]
  },
  {
   "cell_type": "markdown",
   "metadata": {},
   "source": [
    "## constant velocity"
   ]
  },
  {
   "cell_type": "code",
   "execution_count": 18,
   "metadata": {},
   "outputs": [],
   "source": [
    "def get_mean_velocity(coords: np.ndarray) -> Tuple[np.ndarray, np.ndarray]:\n",
    "    \"\"\"Get mean velocity of the observed trajectory.\n",
    "    Args:\n",
    "        coords: Coordinates for the trajectory\n",
    "    Returns:\n",
    "        Mean velocity along x and y\n",
    "    \"\"\"\n",
    "    vx, vy = (\n",
    "        np.zeros((coords.shape[0], coords.shape[1] - 1)),\n",
    "        np.zeros((coords.shape[0], coords.shape[1] - 1)),\n",
    "    )\n",
    "\n",
    "    for i in range(1, coords.shape[1]):\n",
    "        vx[:, i - 1] = (coords[:, i, 0] - coords[:, i - 1, 0]) / 0.1\n",
    "        vy[:, i - 1] = (coords[:, i, 1] - coords[:, i - 1, 1]) / 0.1\n",
    "    vx = np.mean(vx, axis=1)\n",
    "    vy = np.mean(vy, axis=1)\n",
    "\n",
    "    return vx, vy\n",
    "\n",
    "\n",
    "def predict(obs_trajectory: np.ndarray, vx: np.ndarray, vy: np.ndarray,\n",
    "            pred_len: int) -> np.ndarray:\n",
    "    \"\"\"Predict future trajectory given mean velocity.\n",
    "    Args:\n",
    "        obs_trajectory: Observed Trajectory\n",
    "        vx: Mean velocity along x\n",
    "        vy: Mean velocity along y\n",
    "        args: Arguments to the baseline\n",
    "    Returns:\n",
    "        pred_trajectory: Future trajectory\n",
    "    \"\"\"\n",
    "    pred_trajectory = np.zeros((obs_trajectory.shape[0], pred_len, 2))\n",
    "\n",
    "    prev_coords = obs_trajectory[:, -1, :]\n",
    "    for i in range(pred_len):\n",
    "        pred_trajectory[:, i, 0] = prev_coords[:, 0] + vx * 0.1\n",
    "        pred_trajectory[:, i, 1] = prev_coords[:, 1] + vy * 0.1\n",
    "        prev_coords = pred_trajectory[:, i]\n",
    "\n",
    "    return pred_trajectory"
   ]
  },
  {
   "cell_type": "code",
   "execution_count": 19,
   "metadata": {},
   "outputs": [
    {
     "name": "stderr",
     "output_type": "stream",
     "text": [
      "3200it [00:14, 224.52it/s]\n"
     ]
    }
   ],
   "source": [
    "df = pd.DataFrame()\n",
    "# df['ID'] = submission['ID']\n",
    "for i in range(1, 61):\n",
    "    df[f'v{i}'] = np.zeros(len(submission))\n",
    "    \n",
    "for i, scene in tqdm(enumerate(val)):\n",
    "    agent_id = scene['agent_id']\n",
    "    track_ids = [track_id[0] for track_id in scene['track_id']]\n",
    "    agent_ix = track_ids.index(agent_id)\n",
    "    \n",
    "    vx, vy = get_mean_velocity(val[i]['p_in'])\n",
    "    predicted_trajectory = predict(val[i]['p_in'], vx, vy, 30)\n",
    "    df.iloc[i] = predicted_trajectory[agent_ix].flatten()"
   ]
  },
  {
   "cell_type": "markdown",
   "metadata": {},
   "source": [
    "## Baseline LSTM"
   ]
  },
  {
   "cell_type": "code",
   "execution_count": 20,
   "metadata": {},
   "outputs": [],
   "source": [
    "from torch import nn\n",
    "from sklearn.preprocessing import StandardScaler"
   ]
  },
  {
   "cell_type": "code",
   "execution_count": 21,
   "metadata": {},
   "outputs": [],
   "source": [
    "class MotionPlanningModel(nn.Module):\n",
    "    def __init__(self, n_features, n_hidden, seq_len, output_feature=2, n_layers=1):\n",
    "        super(MotionPlanningModel, self).__init__()\n",
    "        self.n_hidden = n_hidden\n",
    "        self.seq_len = seq_len\n",
    "        self.n_layers = n_layers\n",
    "        \n",
    "        self.lstm = nn.LSTM(input_size = n_features, \n",
    "                            hidden_size = self.n_hidden,\n",
    "                            num_layers = self.n_layers, \n",
    "#                             batch_first = True\n",
    "                           )\n",
    "        self.linear = nn.Linear(in_features=n_hidden, out_features=output_feature)\n",
    "        \n",
    "    def init_hidden(self, batch_size):\n",
    "        # even with batch_first = True this remains same as docs\n",
    "        hidden_state = torch.zeros(self.n_layers, batch_size, self.n_hidden)\n",
    "        cell_state = torch.zeros(self.n_layers, batch_size, self.n_hidden)\n",
    "        self.hidden = (hidden_state, cell_state)\n",
    "    \n",
    "    def forward(self, x):\n",
    "        batch_size, seq_len, _ = x.size()\n",
    "        self.hidden = self.init_hidden(batch_size)\n",
    "        \n",
    "        lstm_out, self.hidden = self.lstm(x, self.hidden)\n",
    "        # lstm_out(with batch_first = True) is \n",
    "        # (batch_size,seq_len,num_directions * hidden_size)\n",
    "        # for following linear layer we want to keep batch_size dimension and merge rest       \n",
    "        # .contiguous() -> solves tensor compatibility error\n",
    "        x = lstm_out.contiguous().view(batch_size,-1)\n",
    "        return x"
   ]
  },
  {
   "cell_type": "code",
   "execution_count": 27,
   "metadata": {},
   "outputs": [],
   "source": [
    "class LSTM(nn.Module):\n",
    "    def __init__(self, n_features, n_hidden, seq_len, output_feature=2, n_layers=1):\n",
    "        super(LSTM, self).__init__()\n",
    "        self.n_hidden = n_hidden\n",
    "        self.seq_len = seq_len\n",
    "        self.n_layers = n_layers\n",
    "        \n",
    "        self.lstm = nn.LSTM(input_size = n_features, \n",
    "                            hidden_size = self.n_hidden,\n",
    "                            num_layers = self.n_layers, \n",
    "                            batch_first = True\n",
    "                           )\n",
    "        self.linear = nn.Linear(n_hidden, output_feature)\n",
    "        \n",
    "    def init_hidden(self, batch_size):\n",
    "        # even with batch_first = True this remains same as docs\n",
    "        hidden_state = torch.randn(self.n_layers, batch_size, self.n_hidden).to(device)\n",
    "        cell_state = torch.randn(self.n_layers, batch_size, self.n_hidden).to(device)\n",
    "        return (hidden_state, cell_state)\n",
    "    \n",
    "    def forward(self, x):\n",
    "        batch_size, seq_len, _ = x.size()\n",
    "        \n",
    "        self.hidden = self.init_hidden(batch_size)\n",
    "        lstm_out, self.hidden = self.lstm(x, self.hidden)\n",
    "        out = self.linear(lstm_out)\n",
    "        return out"
   ]
  },
  {
   "cell_type": "code",
   "execution_count": 28,
   "metadata": {},
   "outputs": [],
   "source": [
    "# model training\n",
    "is_cuda = torch.cuda.is_available()\n",
    "if is_cuda:\n",
    "    device = torch.device(\"cuda\")\n",
    "else:\n",
    "    device = torch.device(\"cpu\")\n",
    "    \n",
    "model = LSTM(4, 8, 2)\n",
    "model.to(device)\n",
    "# model = MotionPlanningModel(4, 8, 2)\n",
    "\n",
    "loss_fn = nn.MSELoss(reduction=\"mean\")\n",
    "optimizer = torch.optim.Adam(model.parameters(), lr=LEARNING_RATE)"
   ]
  },
  {
   "cell_type": "code",
   "execution_count": 29,
   "metadata": {},
   "outputs": [],
   "source": [
    "# normalize input and output so that they rescale between 0 and 1\n",
    "def normalize(vector):\n",
    "    return ((vector - torch.mean(vector))/torch.std(vector)).reshape(-1, 1)\n",
    "    "
   ]
  },
  {
   "cell_type": "code",
   "execution_count": 30,
   "metadata": {},
   "outputs": [
    {
     "name": "stdout",
     "output_type": "stream",
     "text": [
      "Epoch 1/10, batch 0/3218, loss: 4811338.5000\n",
      "Epoch 1/10, batch 200/3218, loss: 4128307.0000\n"
     ]
    },
    {
     "ename": "KeyboardInterrupt",
     "evalue": "",
     "output_type": "error",
     "traceback": [
      "\u001b[1;31m---------------------------------------------------------------------------\u001b[0m",
      "\u001b[1;31mKeyboardInterrupt\u001b[0m                         Traceback (most recent call last)",
      "\u001b[1;32m<ipython-input-30-7b0d16d95a53>\u001b[0m in \u001b[0;36m<module>\u001b[1;34m\u001b[0m\n\u001b[0;32m      1\u001b[0m \u001b[0mNUM_EPOCH\u001b[0m \u001b[1;33m=\u001b[0m \u001b[1;36m10\u001b[0m\u001b[1;33m\u001b[0m\u001b[1;33m\u001b[0m\u001b[0m\n\u001b[0;32m      2\u001b[0m \u001b[1;32mfor\u001b[0m \u001b[0mepoch\u001b[0m \u001b[1;32min\u001b[0m \u001b[0mrange\u001b[0m\u001b[1;33m(\u001b[0m\u001b[0mNUM_EPOCH\u001b[0m\u001b[1;33m)\u001b[0m\u001b[1;33m:\u001b[0m\u001b[1;33m\u001b[0m\u001b[1;33m\u001b[0m\u001b[0m\n\u001b[1;32m----> 3\u001b[1;33m     \u001b[1;32mfor\u001b[0m \u001b[0mi_batch\u001b[0m\u001b[1;33m,\u001b[0m \u001b[0mbatch_data\u001b[0m \u001b[1;32min\u001b[0m \u001b[0menumerate\u001b[0m\u001b[1;33m(\u001b[0m\u001b[0mtrain_loader\u001b[0m\u001b[1;33m)\u001b[0m\u001b[1;33m:\u001b[0m\u001b[1;33m\u001b[0m\u001b[1;33m\u001b[0m\u001b[0m\n\u001b[0m\u001b[0;32m      4\u001b[0m         \u001b[0minp\u001b[0m\u001b[1;33m,\u001b[0m \u001b[0mout\u001b[0m \u001b[1;33m=\u001b[0m \u001b[0mbatch_data\u001b[0m\u001b[1;33m\u001b[0m\u001b[1;33m\u001b[0m\u001b[0m\n\u001b[0;32m      5\u001b[0m         \u001b[0minp\u001b[0m\u001b[1;33m,\u001b[0m \u001b[0mout\u001b[0m \u001b[1;33m=\u001b[0m \u001b[0minp\u001b[0m\u001b[1;33m.\u001b[0m\u001b[0mto\u001b[0m\u001b[1;33m(\u001b[0m\u001b[0mdevice\u001b[0m\u001b[1;33m)\u001b[0m\u001b[1;33m,\u001b[0m \u001b[0mout\u001b[0m\u001b[1;33m.\u001b[0m\u001b[0mto\u001b[0m\u001b[1;33m(\u001b[0m\u001b[0mdevice\u001b[0m\u001b[1;33m)\u001b[0m\u001b[1;33m\u001b[0m\u001b[1;33m\u001b[0m\u001b[0m\n",
      "\u001b[1;32m~\\anaconda3\\lib\\site-packages\\torch\\utils\\data\\dataloader.py\u001b[0m in \u001b[0;36m__next__\u001b[1;34m(self)\u001b[0m\n\u001b[0;32m    433\u001b[0m         \u001b[1;32mif\u001b[0m \u001b[0mself\u001b[0m\u001b[1;33m.\u001b[0m\u001b[0m_sampler_iter\u001b[0m \u001b[1;32mis\u001b[0m \u001b[1;32mNone\u001b[0m\u001b[1;33m:\u001b[0m\u001b[1;33m\u001b[0m\u001b[1;33m\u001b[0m\u001b[0m\n\u001b[0;32m    434\u001b[0m             \u001b[0mself\u001b[0m\u001b[1;33m.\u001b[0m\u001b[0m_reset\u001b[0m\u001b[1;33m(\u001b[0m\u001b[1;33m)\u001b[0m\u001b[1;33m\u001b[0m\u001b[1;33m\u001b[0m\u001b[0m\n\u001b[1;32m--> 435\u001b[1;33m         \u001b[0mdata\u001b[0m \u001b[1;33m=\u001b[0m \u001b[0mself\u001b[0m\u001b[1;33m.\u001b[0m\u001b[0m_next_data\u001b[0m\u001b[1;33m(\u001b[0m\u001b[1;33m)\u001b[0m\u001b[1;33m\u001b[0m\u001b[1;33m\u001b[0m\u001b[0m\n\u001b[0m\u001b[0;32m    436\u001b[0m         \u001b[0mself\u001b[0m\u001b[1;33m.\u001b[0m\u001b[0m_num_yielded\u001b[0m \u001b[1;33m+=\u001b[0m \u001b[1;36m1\u001b[0m\u001b[1;33m\u001b[0m\u001b[1;33m\u001b[0m\u001b[0m\n\u001b[0;32m    437\u001b[0m         \u001b[1;32mif\u001b[0m \u001b[0mself\u001b[0m\u001b[1;33m.\u001b[0m\u001b[0m_dataset_kind\u001b[0m \u001b[1;33m==\u001b[0m \u001b[0m_DatasetKind\u001b[0m\u001b[1;33m.\u001b[0m\u001b[0mIterable\u001b[0m \u001b[1;32mand\u001b[0m\u001b[0;31m \u001b[0m\u001b[0;31m\\\u001b[0m\u001b[1;33m\u001b[0m\u001b[1;33m\u001b[0m\u001b[0m\n",
      "\u001b[1;32m~\\anaconda3\\lib\\site-packages\\torch\\utils\\data\\dataloader.py\u001b[0m in \u001b[0;36m_next_data\u001b[1;34m(self)\u001b[0m\n\u001b[0;32m    473\u001b[0m     \u001b[1;32mdef\u001b[0m \u001b[0m_next_data\u001b[0m\u001b[1;33m(\u001b[0m\u001b[0mself\u001b[0m\u001b[1;33m)\u001b[0m\u001b[1;33m:\u001b[0m\u001b[1;33m\u001b[0m\u001b[1;33m\u001b[0m\u001b[0m\n\u001b[0;32m    474\u001b[0m         \u001b[0mindex\u001b[0m \u001b[1;33m=\u001b[0m \u001b[0mself\u001b[0m\u001b[1;33m.\u001b[0m\u001b[0m_next_index\u001b[0m\u001b[1;33m(\u001b[0m\u001b[1;33m)\u001b[0m  \u001b[1;31m# may raise StopIteration\u001b[0m\u001b[1;33m\u001b[0m\u001b[1;33m\u001b[0m\u001b[0m\n\u001b[1;32m--> 475\u001b[1;33m         \u001b[0mdata\u001b[0m \u001b[1;33m=\u001b[0m \u001b[0mself\u001b[0m\u001b[1;33m.\u001b[0m\u001b[0m_dataset_fetcher\u001b[0m\u001b[1;33m.\u001b[0m\u001b[0mfetch\u001b[0m\u001b[1;33m(\u001b[0m\u001b[0mindex\u001b[0m\u001b[1;33m)\u001b[0m  \u001b[1;31m# may raise StopIteration\u001b[0m\u001b[1;33m\u001b[0m\u001b[1;33m\u001b[0m\u001b[0m\n\u001b[0m\u001b[0;32m    476\u001b[0m         \u001b[1;32mif\u001b[0m \u001b[0mself\u001b[0m\u001b[1;33m.\u001b[0m\u001b[0m_pin_memory\u001b[0m\u001b[1;33m:\u001b[0m\u001b[1;33m\u001b[0m\u001b[1;33m\u001b[0m\u001b[0m\n\u001b[0;32m    477\u001b[0m             \u001b[0mdata\u001b[0m \u001b[1;33m=\u001b[0m \u001b[0m_utils\u001b[0m\u001b[1;33m.\u001b[0m\u001b[0mpin_memory\u001b[0m\u001b[1;33m.\u001b[0m\u001b[0mpin_memory\u001b[0m\u001b[1;33m(\u001b[0m\u001b[0mdata\u001b[0m\u001b[1;33m)\u001b[0m\u001b[1;33m\u001b[0m\u001b[1;33m\u001b[0m\u001b[0m\n",
      "\u001b[1;32m~\\anaconda3\\lib\\site-packages\\torch\\utils\\data\\_utils\\fetch.py\u001b[0m in \u001b[0;36mfetch\u001b[1;34m(self, possibly_batched_index)\u001b[0m\n\u001b[0;32m     42\u001b[0m     \u001b[1;32mdef\u001b[0m \u001b[0mfetch\u001b[0m\u001b[1;33m(\u001b[0m\u001b[0mself\u001b[0m\u001b[1;33m,\u001b[0m \u001b[0mpossibly_batched_index\u001b[0m\u001b[1;33m)\u001b[0m\u001b[1;33m:\u001b[0m\u001b[1;33m\u001b[0m\u001b[1;33m\u001b[0m\u001b[0m\n\u001b[0;32m     43\u001b[0m         \u001b[1;32mif\u001b[0m \u001b[0mself\u001b[0m\u001b[1;33m.\u001b[0m\u001b[0mauto_collation\u001b[0m\u001b[1;33m:\u001b[0m\u001b[1;33m\u001b[0m\u001b[1;33m\u001b[0m\u001b[0m\n\u001b[1;32m---> 44\u001b[1;33m             \u001b[0mdata\u001b[0m \u001b[1;33m=\u001b[0m \u001b[1;33m[\u001b[0m\u001b[0mself\u001b[0m\u001b[1;33m.\u001b[0m\u001b[0mdataset\u001b[0m\u001b[1;33m[\u001b[0m\u001b[0midx\u001b[0m\u001b[1;33m]\u001b[0m \u001b[1;32mfor\u001b[0m \u001b[0midx\u001b[0m \u001b[1;32min\u001b[0m \u001b[0mpossibly_batched_index\u001b[0m\u001b[1;33m]\u001b[0m\u001b[1;33m\u001b[0m\u001b[1;33m\u001b[0m\u001b[0m\n\u001b[0m\u001b[0;32m     45\u001b[0m         \u001b[1;32melse\u001b[0m\u001b[1;33m:\u001b[0m\u001b[1;33m\u001b[0m\u001b[1;33m\u001b[0m\u001b[0m\n\u001b[0;32m     46\u001b[0m             \u001b[0mdata\u001b[0m \u001b[1;33m=\u001b[0m \u001b[0mself\u001b[0m\u001b[1;33m.\u001b[0m\u001b[0mdataset\u001b[0m\u001b[1;33m[\u001b[0m\u001b[0mpossibly_batched_index\u001b[0m\u001b[1;33m]\u001b[0m\u001b[1;33m\u001b[0m\u001b[1;33m\u001b[0m\u001b[0m\n",
      "\u001b[1;32m~\\anaconda3\\lib\\site-packages\\torch\\utils\\data\\_utils\\fetch.py\u001b[0m in \u001b[0;36m<listcomp>\u001b[1;34m(.0)\u001b[0m\n\u001b[0;32m     42\u001b[0m     \u001b[1;32mdef\u001b[0m \u001b[0mfetch\u001b[0m\u001b[1;33m(\u001b[0m\u001b[0mself\u001b[0m\u001b[1;33m,\u001b[0m \u001b[0mpossibly_batched_index\u001b[0m\u001b[1;33m)\u001b[0m\u001b[1;33m:\u001b[0m\u001b[1;33m\u001b[0m\u001b[1;33m\u001b[0m\u001b[0m\n\u001b[0;32m     43\u001b[0m         \u001b[1;32mif\u001b[0m \u001b[0mself\u001b[0m\u001b[1;33m.\u001b[0m\u001b[0mauto_collation\u001b[0m\u001b[1;33m:\u001b[0m\u001b[1;33m\u001b[0m\u001b[1;33m\u001b[0m\u001b[0m\n\u001b[1;32m---> 44\u001b[1;33m             \u001b[0mdata\u001b[0m \u001b[1;33m=\u001b[0m \u001b[1;33m[\u001b[0m\u001b[0mself\u001b[0m\u001b[1;33m.\u001b[0m\u001b[0mdataset\u001b[0m\u001b[1;33m[\u001b[0m\u001b[0midx\u001b[0m\u001b[1;33m]\u001b[0m \u001b[1;32mfor\u001b[0m \u001b[0midx\u001b[0m \u001b[1;32min\u001b[0m \u001b[0mpossibly_batched_index\u001b[0m\u001b[1;33m]\u001b[0m\u001b[1;33m\u001b[0m\u001b[1;33m\u001b[0m\u001b[0m\n\u001b[0m\u001b[0;32m     45\u001b[0m         \u001b[1;32melse\u001b[0m\u001b[1;33m:\u001b[0m\u001b[1;33m\u001b[0m\u001b[1;33m\u001b[0m\u001b[0m\n\u001b[0;32m     46\u001b[0m             \u001b[0mdata\u001b[0m \u001b[1;33m=\u001b[0m \u001b[0mself\u001b[0m\u001b[1;33m.\u001b[0m\u001b[0mdataset\u001b[0m\u001b[1;33m[\u001b[0m\u001b[0mpossibly_batched_index\u001b[0m\u001b[1;33m]\u001b[0m\u001b[1;33m\u001b[0m\u001b[1;33m\u001b[0m\u001b[0m\n",
      "\u001b[1;32m<ipython-input-4-c756740da99c>\u001b[0m in \u001b[0;36m__getitem__\u001b[1;34m(self, idx)\u001b[0m\n\u001b[0;32m     14\u001b[0m \u001b[1;33m\u001b[0m\u001b[0m\n\u001b[0;32m     15\u001b[0m         \u001b[0mpkl_path\u001b[0m \u001b[1;33m=\u001b[0m \u001b[0mself\u001b[0m\u001b[1;33m.\u001b[0m\u001b[0mpkl_list\u001b[0m\u001b[1;33m[\u001b[0m\u001b[0midx\u001b[0m\u001b[1;33m]\u001b[0m\u001b[1;33m\u001b[0m\u001b[1;33m\u001b[0m\u001b[0m\n\u001b[1;32m---> 16\u001b[1;33m         \u001b[1;32mwith\u001b[0m \u001b[0mopen\u001b[0m\u001b[1;33m(\u001b[0m\u001b[0mpkl_path\u001b[0m\u001b[1;33m,\u001b[0m \u001b[1;34m'rb'\u001b[0m\u001b[1;33m)\u001b[0m \u001b[1;32mas\u001b[0m \u001b[0mf\u001b[0m\u001b[1;33m:\u001b[0m\u001b[1;33m\u001b[0m\u001b[1;33m\u001b[0m\u001b[0m\n\u001b[0m\u001b[0;32m     17\u001b[0m             \u001b[0mdata\u001b[0m \u001b[1;33m=\u001b[0m \u001b[0mpickle\u001b[0m\u001b[1;33m.\u001b[0m\u001b[0mload\u001b[0m\u001b[1;33m(\u001b[0m\u001b[0mf\u001b[0m\u001b[1;33m)\u001b[0m\u001b[1;33m\u001b[0m\u001b[1;33m\u001b[0m\u001b[0m\n\u001b[0;32m     18\u001b[0m \u001b[1;33m\u001b[0m\u001b[0m\n",
      "\u001b[1;31mKeyboardInterrupt\u001b[0m: "
     ]
    }
   ],
   "source": [
    "NUM_EPOCH = 10\n",
    "for epoch in range(NUM_EPOCH):\n",
    "    for i_batch, batch_data in enumerate(train_loader):\n",
    "        inp, out = batch_data\n",
    "        inp, out = inp.to(device), out.to(device)\n",
    "        \n",
    "        # we use this lstm to compute the first 19 samples of output\n",
    "        out = out[:, :19, :2]\n",
    "        \n",
    "        # normalize input output to rescale between 0 and 1\n",
    "       \n",
    "        # forward\n",
    "        y_pred = model(inp)\n",
    "        loss = loss_fn(y_pred, out)\n",
    "        \n",
    "        # backward\n",
    "        loss.backward()\n",
    "        optimizer.step()\n",
    "        optimizer.zero_grad()\n",
    "        \n",
    "        if i_batch % 200 == 0:\n",
    "            print(f\"Epoch {epoch+1}/{NUM_EPOCH}, batch {i_batch}/{len(train_loader)}, loss: {loss.item():.4f}\")\n",
    "        \n",
    "        # visualization\n",
    "        # show_sample_batch(sample_batch, agent_id)\n"
   ]
  },
  {
   "cell_type": "code",
   "execution_count": null,
   "metadata": {},
   "outputs": [],
   "source": [
    "print(inp[0])\n",
    "out[0, :19, :2]\n",
    "inp[0, :, 0]"
   ]
  },
  {
   "cell_type": "code",
   "execution_count": null,
   "metadata": {},
   "outputs": [],
   "source": [
    "norm_inp"
   ]
  },
  {
   "cell_type": "markdown",
   "metadata": {},
   "source": [
    "# Submission"
   ]
  },
  {
   "cell_type": "code",
   "execution_count": null,
   "metadata": {},
   "outputs": [],
   "source": [
    "df['ID'] = submission['ID']\n",
    "cols = df.columns[-1:].tolist() + df.columns[:-1].tolist()\n",
    "df = df[cols]"
   ]
  },
  {
   "cell_type": "code",
   "execution_count": null,
   "metadata": {},
   "outputs": [],
   "source": [
    "from datetime import datetime\n",
    "def save_submission(df, filename):\n",
    "    filename = filename + \"_\" + str(datetime.now()) + \".csv\"\n",
    "    file_path = os.path.join(submission_dir, filename)\n",
    "    df.to_csv(file_path, index=False)"
   ]
  },
  {
   "cell_type": "code",
   "execution_count": null,
   "metadata": {},
   "outputs": [],
   "source": [
    "save_submission(df, \"constant_velocity\")"
   ]
  },
  {
   "cell_type": "code",
   "execution_count": null,
   "metadata": {},
   "outputs": [],
   "source": [
    "df"
   ]
  },
  {
   "cell_type": "code",
   "execution_count": null,
   "metadata": {},
   "outputs": [],
   "source": []
  },
  {
   "cell_type": "code",
   "execution_count": null,
   "metadata": {},
   "outputs": [],
   "source": []
  }
 ],
 "metadata": {
  "kernelspec": {
   "display_name": "Python 3",
   "language": "python",
   "name": "python3"
  },
  "language_info": {
   "codemirror_mode": {
    "name": "ipython",
    "version": 3
   },
   "file_extension": ".py",
   "mimetype": "text/x-python",
   "name": "python",
   "nbconvert_exporter": "python",
   "pygments_lexer": "ipython3",
   "version": "3.8.3"
  },
  "toc": {
   "base_numbering": 1,
   "nav_menu": {},
   "number_sections": true,
   "sideBar": true,
   "skip_h1_title": false,
   "title_cell": "Table of Contents",
   "title_sidebar": "Contents",
   "toc_cell": false,
   "toc_position": {},
   "toc_section_display": true,
   "toc_window_display": false
  },
  "varInspector": {
   "cols": {
    "lenName": 16,
    "lenType": 16,
    "lenVar": 40
   },
   "kernels_config": {
    "python": {
     "delete_cmd_postfix": "",
     "delete_cmd_prefix": "del ",
     "library": "var_list.py",
     "varRefreshCmd": "print(var_dic_list())"
    },
    "r": {
     "delete_cmd_postfix": ") ",
     "delete_cmd_prefix": "rm(",
     "library": "var_list.r",
     "varRefreshCmd": "cat(var_dic_list()) "
    }
   },
   "types_to_exclude": [
    "module",
    "function",
    "builtin_function_or_method",
    "instance",
    "_Feature"
   ],
   "window_display": false
  }
 },
 "nbformat": 4,
 "nbformat_minor": 4
}
