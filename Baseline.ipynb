{
 "cells": [
  {
   "cell_type": "code",
   "execution_count": 2,
   "metadata": {},
   "outputs": [],
   "source": [
    "train_path = \"/Users/kailing/Desktop/UCSD academics/CSE 151B/kaggle/new_train/new_train\"\n",
    "val_path = \"/Users/kailing/Desktop/UCSD academics/CSE 151B/kaggle/new_val_in/new_val_in\"\n",
    "submission_path = \"/Users/kailing/Desktop/UCSD academics/CSE 151B/kaggle/sample_submission.csv\"\n",
    "submission_dir = \"/Users/kailing/Desktop/UCSD academics/CSE 151B/kaggle/submissions\""
   ]
  },
  {
   "cell_type": "code",
   "execution_count": 1,
   "metadata": {},
   "outputs": [],
   "source": [
    "NUM_EPOCH = 1\n",
    "BATCH_SIZE = 64\n",
    "LEARNING_RATE = 1e-3"
   ]
  },
  {
   "cell_type": "code",
   "execution_count": 3,
   "metadata": {},
   "outputs": [],
   "source": [
    "import os\n",
    "import pickle\n",
    "import numpy as np\n",
    "from glob import glob\n",
    "import pandas as pd\n",
    "from tqdm import tqdm\n",
    "from typing import Tuple\n",
    "import matplotlib.pyplot as plt\n",
    "\n",
    "import torch\n",
    "from torch.utils.data import Dataset, DataLoader"
   ]
  },
  {
   "cell_type": "markdown",
   "metadata": {},
   "source": [
    "# Data"
   ]
  },
  {
   "cell_type": "code",
   "execution_count": 4,
   "metadata": {},
   "outputs": [],
   "source": [
    "class ArgoverseDataset(Dataset):\n",
    "    def __init__(self, data_path: str, transform=None):\n",
    "        super(ArgoverseDataset, self).__init__()\n",
    "        self.data_path = data_path\n",
    "        self.transform = transform\n",
    "\n",
    "        self.pkl_list = glob(os.path.join(self.data_path, '*'))\n",
    "        self.pkl_list.sort()\n",
    "        \n",
    "    def __len__(self):\n",
    "        return len(self.pkl_list)\n",
    "\n",
    "    def __getitem__(self, idx):\n",
    "\n",
    "        pkl_path = self.pkl_list[idx]\n",
    "        with open(pkl_path, 'rb') as f:\n",
    "            data = pickle.load(f)\n",
    "        \n",
    "        if self.transform:\n",
    "            data = self.transform(data)\n",
    "\n",
    "        return data"
   ]
  },
  {
   "cell_type": "code",
   "execution_count": 6,
   "metadata": {},
   "outputs": [],
   "source": [
    "train = ArgoverseDataset(data_path=train_path)\n",
    "val = ArgoverseDataset(data_path=val_path)"
   ]
  },
  {
   "cell_type": "code",
   "execution_count": 121,
   "metadata": {},
   "outputs": [
    {
     "output_type": "execute_result",
     "data": {
      "text/plain": [
       "tensor([[3.2354e+03, 1.9295e+03, 2.5700e-01, 3.1313e-01],\n",
       "        [3.2359e+03, 1.9298e+03, 4.6091e+00, 3.1098e+00],\n",
       "        [3.2359e+03, 1.9299e+03, 8.8960e-01, 1.0443e+00],\n",
       "        [3.2373e+03, 1.9315e+03, 1.3368e+01, 1.6047e+01],\n",
       "        [3.2378e+03, 1.9317e+03, 5.1234e+00, 2.2956e+00],\n",
       "        [3.2383e+03, 1.9323e+03, 4.6713e+00, 5.8263e+00],\n",
       "        [3.2387e+03, 1.9326e+03, 4.5387e+00, 3.1254e+00],\n",
       "        [3.2391e+03, 1.9327e+03, 3.4147e+00, 1.0973e+00],\n",
       "        [3.2396e+03, 1.9335e+03, 5.7870e+00, 7.9927e+00],\n",
       "        [3.2402e+03, 1.9340e+03, 5.1474e+00, 5.0185e+00],\n",
       "        [3.2406e+03, 1.9344e+03, 4.0382e+00, 3.1020e+00],\n",
       "        [3.2410e+03, 1.9350e+03, 4.8599e+00, 6.0268e+00],\n",
       "        [3.2415e+03, 1.9354e+03, 5.0286e+00, 4.8091e+00],\n",
       "        [3.2420e+03, 1.9357e+03, 4.7979e+00, 2.0820e+00],\n",
       "        [3.2424e+03, 1.9359e+03, 3.4249e+00, 2.8949e+00],\n",
       "        [3.2428e+03, 1.9363e+03, 4.7367e+00, 3.7335e+00],\n",
       "        [3.2431e+03, 1.9365e+03, 2.8242e+00, 1.9251e+00],\n",
       "        [3.2434e+03, 1.9367e+03, 2.6001e+00, 1.8116e+00],\n",
       "        [3.2439e+03, 1.9371e+03, 5.0465e+00, 4.3822e+00]])"
      ]
     },
     "metadata": {},
     "execution_count": 121
    }
   ],
   "source": [
    "def my_collate(batch):\n",
    "    \"\"\" collate lists of samples into batches, create [ batch_sz x agent_sz x seq_len x feature] \"\"\"\n",
    "    inp, out = [], []\n",
    "    for scene in batch:\n",
    "        agent_idx = np.where(scene[\"agent_id\"] == np.unique(scene[\"track_id\"].flatten()))[0][0]\n",
    "        inp.append(np.hstack([scene['p_in'][agent_idx], scene['v_in'][agent_idx]]))\n",
    "        # out.append(np.hstack([scene['p_out'][agent_idx], scene['v_out'][agent_idx]]))\n",
    "        out.append(scene['p_out'][agent_idx])\n",
    "\n",
    "    inp = torch.FloatTensor(inp)\n",
    "    out = torch.FloatTensor(out)\n",
    "    return [inp, out]\n",
    "\n",
    "train_loader = DataLoader(train, batch_size=BATCH_SIZE, shuffle = False, collate_fn=my_collate, num_workers=0)\n",
    "val_loader = DataLoader(val, batch_size=BATCH_SIZE, shuffle = False, collate_fn=my_collate, num_workers=0)\n",
    "exmaple = iter(train_loader)\n",
    "exmaple.next()[0][0]"
   ]
  },
  {
   "cell_type": "code",
   "execution_count": 8,
   "metadata": {},
   "outputs": [
    {
     "output_type": "execute_result",
     "data": {
      "text/plain": [
       "         ID   v1   v2   v3   v4   v5   v6   v7   v8   v9  ...  v51  v52  v53  \\\n",
       "0     10002  0.0  0.0  0.0  0.0  0.0  0.0  0.0  0.0  0.0  ...  0.0  0.0  0.0   \n",
       "1     10015  0.0  0.0  0.0  0.0  0.0  0.0  0.0  0.0  0.0  ...  0.0  0.0  0.0   \n",
       "2     10019  0.0  0.0  0.0  0.0  0.0  0.0  0.0  0.0  0.0  ...  0.0  0.0  0.0   \n",
       "3     10028  0.0  0.0  0.0  0.0  0.0  0.0  0.0  0.0  0.0  ...  0.0  0.0  0.0   \n",
       "4      1003  0.0  0.0  0.0  0.0  0.0  0.0  0.0  0.0  0.0  ...  0.0  0.0  0.0   \n",
       "...     ...  ...  ...  ...  ...  ...  ...  ...  ...  ...  ...  ...  ...  ...   \n",
       "3195   9897  0.0  0.0  0.0  0.0  0.0  0.0  0.0  0.0  0.0  ...  0.0  0.0  0.0   \n",
       "3196     99  0.0  0.0  0.0  0.0  0.0  0.0  0.0  0.0  0.0  ...  0.0  0.0  0.0   \n",
       "3197   9905  0.0  0.0  0.0  0.0  0.0  0.0  0.0  0.0  0.0  ...  0.0  0.0  0.0   \n",
       "3198   9910  0.0  0.0  0.0  0.0  0.0  0.0  0.0  0.0  0.0  ...  0.0  0.0  0.0   \n",
       "3199   9918  0.0  0.0  0.0  0.0  0.0  0.0  0.0  0.0  0.0  ...  0.0  0.0  0.0   \n",
       "\n",
       "      v54  v55  v56  v57  v58  v59  v60  \n",
       "0     0.0  0.0  0.0  0.0  0.0  0.0  0.0  \n",
       "1     0.0  0.0  0.0  0.0  0.0  0.0  0.0  \n",
       "2     0.0  0.0  0.0  0.0  0.0  0.0  0.0  \n",
       "3     0.0  0.0  0.0  0.0  0.0  0.0  0.0  \n",
       "4     0.0  0.0  0.0  0.0  0.0  0.0  0.0  \n",
       "...   ...  ...  ...  ...  ...  ...  ...  \n",
       "3195  0.0  0.0  0.0  0.0  0.0  0.0  0.0  \n",
       "3196  0.0  0.0  0.0  0.0  0.0  0.0  0.0  \n",
       "3197  0.0  0.0  0.0  0.0  0.0  0.0  0.0  \n",
       "3198  0.0  0.0  0.0  0.0  0.0  0.0  0.0  \n",
       "3199  0.0  0.0  0.0  0.0  0.0  0.0  0.0  \n",
       "\n",
       "[3200 rows x 61 columns]"
      ],
      "text/html": "<div>\n<style scoped>\n    .dataframe tbody tr th:only-of-type {\n        vertical-align: middle;\n    }\n\n    .dataframe tbody tr th {\n        vertical-align: top;\n    }\n\n    .dataframe thead th {\n        text-align: right;\n    }\n</style>\n<table border=\"1\" class=\"dataframe\">\n  <thead>\n    <tr style=\"text-align: right;\">\n      <th></th>\n      <th>ID</th>\n      <th>v1</th>\n      <th>v2</th>\n      <th>v3</th>\n      <th>v4</th>\n      <th>v5</th>\n      <th>v6</th>\n      <th>v7</th>\n      <th>v8</th>\n      <th>v9</th>\n      <th>...</th>\n      <th>v51</th>\n      <th>v52</th>\n      <th>v53</th>\n      <th>v54</th>\n      <th>v55</th>\n      <th>v56</th>\n      <th>v57</th>\n      <th>v58</th>\n      <th>v59</th>\n      <th>v60</th>\n    </tr>\n  </thead>\n  <tbody>\n    <tr>\n      <th>0</th>\n      <td>10002</td>\n      <td>0.0</td>\n      <td>0.0</td>\n      <td>0.0</td>\n      <td>0.0</td>\n      <td>0.0</td>\n      <td>0.0</td>\n      <td>0.0</td>\n      <td>0.0</td>\n      <td>0.0</td>\n      <td>...</td>\n      <td>0.0</td>\n      <td>0.0</td>\n      <td>0.0</td>\n      <td>0.0</td>\n      <td>0.0</td>\n      <td>0.0</td>\n      <td>0.0</td>\n      <td>0.0</td>\n      <td>0.0</td>\n      <td>0.0</td>\n    </tr>\n    <tr>\n      <th>1</th>\n      <td>10015</td>\n      <td>0.0</td>\n      <td>0.0</td>\n      <td>0.0</td>\n      <td>0.0</td>\n      <td>0.0</td>\n      <td>0.0</td>\n      <td>0.0</td>\n      <td>0.0</td>\n      <td>0.0</td>\n      <td>...</td>\n      <td>0.0</td>\n      <td>0.0</td>\n      <td>0.0</td>\n      <td>0.0</td>\n      <td>0.0</td>\n      <td>0.0</td>\n      <td>0.0</td>\n      <td>0.0</td>\n      <td>0.0</td>\n      <td>0.0</td>\n    </tr>\n    <tr>\n      <th>2</th>\n      <td>10019</td>\n      <td>0.0</td>\n      <td>0.0</td>\n      <td>0.0</td>\n      <td>0.0</td>\n      <td>0.0</td>\n      <td>0.0</td>\n      <td>0.0</td>\n      <td>0.0</td>\n      <td>0.0</td>\n      <td>...</td>\n      <td>0.0</td>\n      <td>0.0</td>\n      <td>0.0</td>\n      <td>0.0</td>\n      <td>0.0</td>\n      <td>0.0</td>\n      <td>0.0</td>\n      <td>0.0</td>\n      <td>0.0</td>\n      <td>0.0</td>\n    </tr>\n    <tr>\n      <th>3</th>\n      <td>10028</td>\n      <td>0.0</td>\n      <td>0.0</td>\n      <td>0.0</td>\n      <td>0.0</td>\n      <td>0.0</td>\n      <td>0.0</td>\n      <td>0.0</td>\n      <td>0.0</td>\n      <td>0.0</td>\n      <td>...</td>\n      <td>0.0</td>\n      <td>0.0</td>\n      <td>0.0</td>\n      <td>0.0</td>\n      <td>0.0</td>\n      <td>0.0</td>\n      <td>0.0</td>\n      <td>0.0</td>\n      <td>0.0</td>\n      <td>0.0</td>\n    </tr>\n    <tr>\n      <th>4</th>\n      <td>1003</td>\n      <td>0.0</td>\n      <td>0.0</td>\n      <td>0.0</td>\n      <td>0.0</td>\n      <td>0.0</td>\n      <td>0.0</td>\n      <td>0.0</td>\n      <td>0.0</td>\n      <td>0.0</td>\n      <td>...</td>\n      <td>0.0</td>\n      <td>0.0</td>\n      <td>0.0</td>\n      <td>0.0</td>\n      <td>0.0</td>\n      <td>0.0</td>\n      <td>0.0</td>\n      <td>0.0</td>\n      <td>0.0</td>\n      <td>0.0</td>\n    </tr>\n    <tr>\n      <th>...</th>\n      <td>...</td>\n      <td>...</td>\n      <td>...</td>\n      <td>...</td>\n      <td>...</td>\n      <td>...</td>\n      <td>...</td>\n      <td>...</td>\n      <td>...</td>\n      <td>...</td>\n      <td>...</td>\n      <td>...</td>\n      <td>...</td>\n      <td>...</td>\n      <td>...</td>\n      <td>...</td>\n      <td>...</td>\n      <td>...</td>\n      <td>...</td>\n      <td>...</td>\n      <td>...</td>\n    </tr>\n    <tr>\n      <th>3195</th>\n      <td>9897</td>\n      <td>0.0</td>\n      <td>0.0</td>\n      <td>0.0</td>\n      <td>0.0</td>\n      <td>0.0</td>\n      <td>0.0</td>\n      <td>0.0</td>\n      <td>0.0</td>\n      <td>0.0</td>\n      <td>...</td>\n      <td>0.0</td>\n      <td>0.0</td>\n      <td>0.0</td>\n      <td>0.0</td>\n      <td>0.0</td>\n      <td>0.0</td>\n      <td>0.0</td>\n      <td>0.0</td>\n      <td>0.0</td>\n      <td>0.0</td>\n    </tr>\n    <tr>\n      <th>3196</th>\n      <td>99</td>\n      <td>0.0</td>\n      <td>0.0</td>\n      <td>0.0</td>\n      <td>0.0</td>\n      <td>0.0</td>\n      <td>0.0</td>\n      <td>0.0</td>\n      <td>0.0</td>\n      <td>0.0</td>\n      <td>...</td>\n      <td>0.0</td>\n      <td>0.0</td>\n      <td>0.0</td>\n      <td>0.0</td>\n      <td>0.0</td>\n      <td>0.0</td>\n      <td>0.0</td>\n      <td>0.0</td>\n      <td>0.0</td>\n      <td>0.0</td>\n    </tr>\n    <tr>\n      <th>3197</th>\n      <td>9905</td>\n      <td>0.0</td>\n      <td>0.0</td>\n      <td>0.0</td>\n      <td>0.0</td>\n      <td>0.0</td>\n      <td>0.0</td>\n      <td>0.0</td>\n      <td>0.0</td>\n      <td>0.0</td>\n      <td>...</td>\n      <td>0.0</td>\n      <td>0.0</td>\n      <td>0.0</td>\n      <td>0.0</td>\n      <td>0.0</td>\n      <td>0.0</td>\n      <td>0.0</td>\n      <td>0.0</td>\n      <td>0.0</td>\n      <td>0.0</td>\n    </tr>\n    <tr>\n      <th>3198</th>\n      <td>9910</td>\n      <td>0.0</td>\n      <td>0.0</td>\n      <td>0.0</td>\n      <td>0.0</td>\n      <td>0.0</td>\n      <td>0.0</td>\n      <td>0.0</td>\n      <td>0.0</td>\n      <td>0.0</td>\n      <td>...</td>\n      <td>0.0</td>\n      <td>0.0</td>\n      <td>0.0</td>\n      <td>0.0</td>\n      <td>0.0</td>\n      <td>0.0</td>\n      <td>0.0</td>\n      <td>0.0</td>\n      <td>0.0</td>\n      <td>0.0</td>\n    </tr>\n    <tr>\n      <th>3199</th>\n      <td>9918</td>\n      <td>0.0</td>\n      <td>0.0</td>\n      <td>0.0</td>\n      <td>0.0</td>\n      <td>0.0</td>\n      <td>0.0</td>\n      <td>0.0</td>\n      <td>0.0</td>\n      <td>0.0</td>\n      <td>...</td>\n      <td>0.0</td>\n      <td>0.0</td>\n      <td>0.0</td>\n      <td>0.0</td>\n      <td>0.0</td>\n      <td>0.0</td>\n      <td>0.0</td>\n      <td>0.0</td>\n      <td>0.0</td>\n      <td>0.0</td>\n    </tr>\n  </tbody>\n</table>\n<p>3200 rows × 61 columns</p>\n</div>"
     },
     "metadata": {},
     "execution_count": 8
    }
   ],
   "source": [
    "submission = pd.read_csv(submission_path)\n",
    "submission"
   ]
  },
  {
   "cell_type": "markdown",
   "metadata": {},
   "source": [
    "# Explore"
   ]
  },
  {
   "cell_type": "code",
   "execution_count": 6,
   "metadata": {},
   "outputs": [],
   "source": [
    "train_0 = train[0]"
   ]
  },
  {
   "cell_type": "code",
   "execution_count": 7,
   "metadata": {},
   "outputs": [
    {
     "data": {
      "text/plain": [
       "(60, 19, 2)"
      ]
     },
     "execution_count": 7,
     "metadata": {},
     "output_type": "execute_result"
    }
   ],
   "source": [
    "train_0['p_in'].shape"
   ]
  },
  {
   "cell_type": "code",
   "execution_count": 8,
   "metadata": {},
   "outputs": [
    {
     "name": "stdout",
     "output_type": "stream",
     "text": [
      "dict_keys(['city', 'lane', 'lane_norm', 'scene_idx', 'agent_id', 'car_mask', 'p_in', 'v_in', 'p_out', 'v_out', 'track_id'])\n",
      "(60, 19, 2) (60, 30, 2)\n",
      "(60, 30, 1)\n",
      "00000000-0000-0000-0000-000000000062\n"
     ]
    },
    {
     "data": {
      "text/plain": [
       "<matplotlib.collections.PathCollection at 0x7fa780fd4f40>"
      ]
     },
     "execution_count": 8,
     "metadata": {},
     "output_type": "execute_result"
    },
    {
     "data": {
      "image/png": "[encoded data removed]",
      "text/plain": [
       "<Figure size 432x288 with 1 Axes>"
      ]
     },
     "metadata": {
      "needs_background": "light"
     },
     "output_type": "display_data"
    }
   ],
   "source": [
    "import matplotlib.pyplot as plt\n",
    "\n",
    "scene = train[0]\n",
    "print(train[0].keys())\n",
    "\n",
    "pos_in = scene[\"v_in\"]\n",
    "pos_out = scene[\"v_out\"]\n",
    "print(pos_in.shape, pos_out.shape)\n",
    "track_id = scene[\"track_id\"]\n",
    "print(track_id.shape)\n",
    "car_id  = 2\n",
    "agent_id = scene[\"agent_id\"]\n",
    "print(agent_id)\n",
    "plt.scatter(pos_in[car_id,:,0], pos_in[car_id,:,1])\n",
    "plt.scatter(pos_out[car_id,:,0], pos_out[car_id,:,1])"
   ]
  },
  {
   "cell_type": "code",
   "execution_count": null,
   "metadata": {},
   "outputs": [],
   "source": []
  },
  {
   "cell_type": "code",
   "execution_count": null,
   "metadata": {},
   "outputs": [],
   "source": []
  },
  {
   "cell_type": "markdown",
   "metadata": {},
   "source": [
    "# Baseline (Constant velocity)"
   ]
  },
  {
   "cell_type": "code",
   "execution_count": 9,
   "metadata": {},
   "outputs": [],
   "source": [
    "train_0 = train[2323]"
   ]
  },
  {
   "cell_type": "code",
   "execution_count": 10,
   "metadata": {},
   "outputs": [
    {
     "data": {
      "text/plain": [
       "'00000000-0000-0000-0000-000000014742'"
      ]
     },
     "execution_count": 10,
     "metadata": {},
     "output_type": "execute_result"
    }
   ],
   "source": [
    "train_0['p_in']\n",
    "train_0['track_id'][:, :, 0]\n",
    "train_0['agent_id']"
   ]
  },
  {
   "cell_type": "code",
   "execution_count": 11,
   "metadata": {},
   "outputs": [
    {
     "data": {
      "text/plain": [
       "array([[ 568.38769531, 2098.21240234],\n",
       "       [ 568.30877686, 2095.91650391],\n",
       "       [ 568.55822754, 2095.08422852],\n",
       "       [ 568.50262451, 2093.97949219],\n",
       "       [ 568.68048096, 2093.05029297],\n",
       "       [ 568.45727539, 2091.95922852],\n",
       "       [ 568.59118652, 2090.98071289],\n",
       "       [ 568.79071045, 2090.078125  ],\n",
       "       [ 568.73016357, 2088.91430664],\n",
       "       [ 568.71337891, 2088.06567383],\n",
       "       [ 568.86688232, 2086.9675293 ],\n",
       "       [ 568.77008057, 2085.92822266],\n",
       "       [ 568.71276855, 2084.92797852],\n",
       "       [ 568.78063965, 2083.88330078],\n",
       "       [ 568.89666748, 2082.72973633],\n",
       "       [ 568.90222168, 2082.15283203],\n",
       "       [ 568.89044189, 2081.23144531],\n",
       "       [ 568.84240723, 2080.14941406],\n",
       "       [ 568.82531738, 2079.04956055]])"
      ]
     },
     "execution_count": 11,
     "metadata": {},
     "output_type": "execute_result"
    }
   ],
   "source": [
    "train_0['p_in'][4]"
   ]
  },
  {
   "cell_type": "code",
   "execution_count": 226,
   "metadata": {},
   "outputs": [
    {
     "data": {
      "text/plain": [
       "'00000000-0000-0000-0000-000000014742'"
      ]
     },
     "execution_count": 226,
     "metadata": {},
     "output_type": "execute_result"
    }
   ],
   "source": [
    "train_0[\"agent_id\"]"
   ]
  },
  {
   "cell_type": "code",
   "execution_count": 248,
   "metadata": {},
   "outputs": [],
   "source": [
    "agent_idx = np.where(train_0[\"agent_id\"] == np.unique(train_0[\"track_id\"].flatten()))[0][0]"
   ]
  },
  {
   "cell_type": "code",
   "execution_count": 267,
   "metadata": {},
   "outputs": [
    {
     "data": {
      "text/plain": [
       "(19, 4)"
      ]
     },
     "execution_count": 267,
     "metadata": {},
     "output_type": "execute_result"
    }
   ],
   "source": [
    "np.hstack([scene['p_in'][agent_idx], scene['v_in'][agent_idx]]).shape "
   ]
  },
  {
   "cell_type": "code",
   "execution_count": 147,
   "metadata": {},
   "outputs": [
    {
     "data": {
      "text/plain": [
       "<matplotlib.collections.PathCollection at 0x7fdb88a0a130>"
      ]
     },
     "execution_count": 147,
     "metadata": {},
     "output_type": "execute_result"
    },
    {
     "data": {
      "image/png": "[encoded data removed]",
      "text/plain": [
       "<Figure size 432x288 with 1 Axes>"
      ]
     },
     "metadata": {
      "needs_background": "light"
     },
     "output_type": "display_data"
    }
   ],
   "source": [
    "plt.scatter(train_0[\"p_in\"][3][:, 0], train_0[\"p_in\"][3][:, 1])\n",
    "plt.scatter(train_0[\"p_out\"][3][:, 0], train_0[\"p_out\"][3][:, 1])"
   ]
  },
  {
   "cell_type": "code",
   "execution_count": null,
   "metadata": {},
   "outputs": [],
   "source": []
  },
  {
   "cell_type": "code",
   "execution_count": null,
   "metadata": {},
   "outputs": [],
   "source": []
  },
  {
   "cell_type": "code",
   "execution_count": null,
   "metadata": {},
   "outputs": [],
   "source": []
  },
  {
   "cell_type": "markdown",
   "metadata": {},
   "source": [
    "# Preprocessing"
   ]
  },
  {
   "cell_type": "markdown",
   "metadata": {},
   "source": []
  },
  {
   "cell_type": "code",
   "execution_count": null,
   "metadata": {},
   "outputs": [],
   "source": []
  },
  {
   "cell_type": "code",
   "execution_count": null,
   "metadata": {},
   "outputs": [],
   "source": []
  },
  {
   "cell_type": "code",
   "execution_count": null,
   "metadata": {},
   "outputs": [],
   "source": []
  },
  {
   "cell_type": "code",
   "execution_count": null,
   "metadata": {},
   "outputs": [],
   "source": []
  },
  {
   "cell_type": "markdown",
   "metadata": {},
   "source": [
    "# Training"
   ]
  },
  {
   "cell_type": "code",
   "execution_count": 173,
   "metadata": {},
   "outputs": [],
   "source": [
    "class RMSELoss(torch.nn.Module):\n",
    "    \"\"\"RMSE Loss\"\"\"\n",
    "    def __init__(self):\n",
    "        super(RMSELoss, self).__init__()\n",
    "\n",
    "    def forward(self, yhat, y):\n",
    "        criterion = nn.MSELoss()\n",
    "        loss = torch.sqrt(criterion(yhat, y))\n",
    "        return loss"
   ]
  },
  {
   "cell_type": "markdown",
   "metadata": {},
   "source": [
    "## constant velocity"
   ]
  },
  {
   "cell_type": "code",
   "execution_count": 13,
   "metadata": {},
   "outputs": [],
   "source": [
    "def get_mean_velocity(coords: np.ndarray) -> Tuple[np.ndarray, np.ndarray]:\n",
    "    \"\"\"Get mean velocity of the observed trajectory.\n",
    "    Args:\n",
    "        coords: Coordinates for the trajectory\n",
    "    Returns:\n",
    "        Mean velocity along x and y\n",
    "    \"\"\"\n",
    "    vx, vy = (\n",
    "        np.zeros((coords.shape[0], coords.shape[1] - 1)),\n",
    "        np.zeros((coords.shape[0], coords.shape[1] - 1)),\n",
    "    )\n",
    "\n",
    "    for i in range(1, coords.shape[1]):\n",
    "        vx[:, i - 1] = (coords[:, i, 0] - coords[:, i - 1, 0]) / 0.1\n",
    "        vy[:, i - 1] = (coords[:, i, 1] - coords[:, i - 1, 1]) / 0.1\n",
    "    vx = np.mean(vx, axis=1)\n",
    "    vy = np.mean(vy, axis=1)\n",
    "\n",
    "    return vx, vy\n",
    "\n",
    "\n",
    "def predict(obs_trajectory: np.ndarray, vx: np.ndarray, vy: np.ndarray,\n",
    "            pred_len: int) -> np.ndarray:\n",
    "    \"\"\"Predict future trajectory given mean velocity.\n",
    "    Args:\n",
    "        obs_trajectory: Observed Trajectory\n",
    "        vx: Mean velocity along x\n",
    "        vy: Mean velocity along y\n",
    "        args: Arguments to the baseline\n",
    "    Returns:\n",
    "        pred_trajectory: Future trajectory\n",
    "    \"\"\"\n",
    "    pred_trajectory = np.zeros((obs_trajectory.shape[0], pred_len, 2))\n",
    "\n",
    "    prev_coords = obs_trajectory[:, -1, :]\n",
    "    for i in range(pred_len):\n",
    "        pred_trajectory[:, i, 0] = prev_coords[:, 0] + vx * 0.1\n",
    "        pred_trajectory[:, i, 1] = prev_coords[:, 1] + vy * 0.1\n",
    "        prev_coords = pred_trajectory[:, i]\n",
    "\n",
    "    return pred_trajectory"
   ]
  },
  {
   "cell_type": "code",
   "execution_count": 14,
   "metadata": {},
   "outputs": [
    {
     "name": "stderr",
     "output_type": "stream",
     "text": [
      "3200it [00:16, 191.86it/s]\n"
     ]
    }
   ],
   "source": [
    "df = pd.DataFrame()\n",
    "# df['ID'] = submission['ID']\n",
    "for i in range(1, 61):\n",
    "    df[f'v{i}'] = np.zeros(len(submission))\n",
    "    \n",
    "for i, scene in tqdm(enumerate(val)):\n",
    "    agent_id = scene['agent_id']\n",
    "    track_ids = [track_id[0] for track_id in scene['track_id']]\n",
    "    agent_ix = track_ids.index(agent_id)\n",
    "    \n",
    "    vx, vy = get_mean_velocity(val[i]['p_in'])\n",
    "    predicted_trajectory = predict(val[i]['p_in'], vx, vy, 30)\n",
    "    df.iloc[i] = predicted_trajectory[agent_ix].flatten()"
   ]
  },
  {
   "cell_type": "markdown",
   "metadata": {},
   "source": [
    "## Baseline LSTM"
   ]
  },
  {
   "cell_type": "code",
   "execution_count": 10,
   "metadata": {},
   "outputs": [],
   "source": [
    "from torch import nn\n",
    "import torch.nn.functional as F\n",
    "from sklearn.preprocessing import StandardScaler"
   ]
  },
  {
   "cell_type": "code",
   "execution_count": null,
   "metadata": {},
   "outputs": [],
   "source": [
    "class MotionPlanningModel(nn.Module):\n",
    "    def __init__(self, n_features, n_hidden, seq_len, output_feature=2, n_layers=1):\n",
    "        super(MotionPlanningModel, self).__init__()\n",
    "        self.n_hidden = n_hidden\n",
    "        self.seq_len = seq_len\n",
    "        self.n_layers = n_layers\n",
    "        \n",
    "        self.lstm = nn.LSTM(input_size = n_features, \n",
    "                            hidden_size = self.n_hidden,\n",
    "                            num_layers = self.n_layers, \n",
    "#                             batch_first = True\n",
    "                           )\n",
    "        self.linear = nn.Linear(in_features=n_hidden, out_features=output_feature)\n",
    "        \n",
    "    def init_hidden(self, batch_size):\n",
    "        # even with batch_first = True this remains same as docs\n",
    "        hidden_state = torch.zeros(self.n_layers, batch_size, self.n_hidden)\n",
    "        cell_state = torch.zeros(self.n_layers, batch_size, self.n_hidden)\n",
    "        self.hidden = (hidden_state, cell_state)\n",
    "    \n",
    "    def forward(self, x):\n",
    "        batch_size, seq_len, _ = x.size()\n",
    "        self.hidden = self.init_hidden(batch_size)\n",
    "        \n",
    "        lstm_out, self.hidden = self.lstm(x, self.hidden)\n",
    "        x = lstm_out.contiguous().view(batch_size,-1)\n",
    "        return self.linear(x)"
   ]
  },
  {
   "cell_type": "code",
   "execution_count": 352,
   "metadata": {},
   "outputs": [],
   "source": [
    "# model training\n",
    "model = MotionPlanningModel(4, 8, 2)\n",
    "\n",
    "loss_fn = nn.MSELoss(reduction=\"mean\")\n",
    "optimizer = torch.optim.Adam(model.parameters(), lr=LEARNING_RATE)"
   ]
  },
  {
   "cell_type": "code",
   "execution_count": 353,
   "metadata": {},
   "outputs": [
    {
     "name": "stdout",
     "output_type": "stream",
     "text": [
      "Epoch 1/1, batch 0/3218, loss: 4806438.0000\n"
     ]
    },
    {
     "ename": "KeyboardInterrupt",
     "evalue": "",
     "output_type": "error",
     "traceback": [
      "\u001b[0;31m---------------------------------------------------------------------------\u001b[0m",
      "\u001b[0;31mKeyboardInterrupt\u001b[0m                         Traceback (most recent call last)",
      "\u001b[0;32m<ipython-input-353-735a50ee5a27>\u001b[0m in \u001b[0;36m<module>\u001b[0;34m\u001b[0m\n\u001b[1;32m      8\u001b[0m \u001b[0;34m\u001b[0m\u001b[0m\n\u001b[1;32m      9\u001b[0m         \u001b[0;31m# backward\u001b[0m\u001b[0;34m\u001b[0m\u001b[0;34m\u001b[0m\u001b[0;34m\u001b[0m\u001b[0m\n\u001b[0;32m---> 10\u001b[0;31m         \u001b[0mloss\u001b[0m\u001b[0;34m.\u001b[0m\u001b[0mbackward\u001b[0m\u001b[0;34m(\u001b[0m\u001b[0;34m)\u001b[0m\u001b[0;34m\u001b[0m\u001b[0;34m\u001b[0m\u001b[0m\n\u001b[0m\u001b[1;32m     11\u001b[0m         \u001b[0moptimizer\u001b[0m\u001b[0;34m.\u001b[0m\u001b[0mstep\u001b[0m\u001b[0;34m(\u001b[0m\u001b[0;34m)\u001b[0m\u001b[0;34m\u001b[0m\u001b[0;34m\u001b[0m\u001b[0m\n\u001b[1;32m     12\u001b[0m         \u001b[0moptimizer\u001b[0m\u001b[0;34m.\u001b[0m\u001b[0mzero_grad\u001b[0m\u001b[0;34m(\u001b[0m\u001b[0;34m)\u001b[0m\u001b[0;34m\u001b[0m\u001b[0;34m\u001b[0m\u001b[0m\n",
      "\u001b[0;32m/Library/Frameworks/Python.framework/Versions/3.8/lib/python3.8/site-packages/torch/tensor.py\u001b[0m in \u001b[0;36mbackward\u001b[0;34m(self, gradient, retain_graph, create_graph)\u001b[0m\n\u001b[1;32m    196\u001b[0m                 \u001b[0mproducts\u001b[0m\u001b[0;34m.\u001b[0m \u001b[0mDefaults\u001b[0m \u001b[0mto\u001b[0m\u001b[0;31m \u001b[0m\u001b[0;31m`\u001b[0m\u001b[0;31m`\u001b[0m\u001b[0;32mFalse\u001b[0m\u001b[0;31m`\u001b[0m\u001b[0;31m`\u001b[0m\u001b[0;34m.\u001b[0m\u001b[0;34m\u001b[0m\u001b[0;34m\u001b[0m\u001b[0m\n\u001b[1;32m    197\u001b[0m         \"\"\"\n\u001b[0;32m--> 198\u001b[0;31m         \u001b[0mtorch\u001b[0m\u001b[0;34m.\u001b[0m\u001b[0mautograd\u001b[0m\u001b[0;34m.\u001b[0m\u001b[0mbackward\u001b[0m\u001b[0;34m(\u001b[0m\u001b[0mself\u001b[0m\u001b[0;34m,\u001b[0m \u001b[0mgradient\u001b[0m\u001b[0;34m,\u001b[0m \u001b[0mretain_graph\u001b[0m\u001b[0;34m,\u001b[0m \u001b[0mcreate_graph\u001b[0m\u001b[0;34m)\u001b[0m\u001b[0;34m\u001b[0m\u001b[0;34m\u001b[0m\u001b[0m\n\u001b[0m\u001b[1;32m    199\u001b[0m \u001b[0;34m\u001b[0m\u001b[0m\n\u001b[1;32m    200\u001b[0m     \u001b[0;32mdef\u001b[0m \u001b[0mregister_hook\u001b[0m\u001b[0;34m(\u001b[0m\u001b[0mself\u001b[0m\u001b[0;34m,\u001b[0m \u001b[0mhook\u001b[0m\u001b[0;34m)\u001b[0m\u001b[0;34m:\u001b[0m\u001b[0;34m\u001b[0m\u001b[0;34m\u001b[0m\u001b[0m\n",
      "\u001b[0;32m/Library/Frameworks/Python.framework/Versions/3.8/lib/python3.8/site-packages/torch/autograd/__init__.py\u001b[0m in \u001b[0;36mbackward\u001b[0;34m(tensors, grad_tensors, retain_graph, create_graph, grad_variables)\u001b[0m\n\u001b[1;32m     96\u001b[0m         \u001b[0mretain_graph\u001b[0m \u001b[0;34m=\u001b[0m \u001b[0mcreate_graph\u001b[0m\u001b[0;34m\u001b[0m\u001b[0;34m\u001b[0m\u001b[0m\n\u001b[1;32m     97\u001b[0m \u001b[0;34m\u001b[0m\u001b[0m\n\u001b[0;32m---> 98\u001b[0;31m     Variable._execution_engine.run_backward(\n\u001b[0m\u001b[1;32m     99\u001b[0m         \u001b[0mtensors\u001b[0m\u001b[0;34m,\u001b[0m \u001b[0mgrad_tensors\u001b[0m\u001b[0;34m,\u001b[0m \u001b[0mretain_graph\u001b[0m\u001b[0;34m,\u001b[0m \u001b[0mcreate_graph\u001b[0m\u001b[0;34m,\u001b[0m\u001b[0;34m\u001b[0m\u001b[0;34m\u001b[0m\u001b[0m\n\u001b[1;32m    100\u001b[0m         allow_unreachable=True)  # allow_unreachable flag\n",
      "\u001b[0;31mKeyboardInterrupt\u001b[0m: "
     ]
    }
   ],
   "source": [
    "for epoch in range(NUM_EPOCH):\n",
    "    for i_batch, batch_data in enumerate(train_loader):\n",
    "        inp, out = batch_data\n",
    "\n",
    "        # forward\n",
    "        y_pred = model(inp)\n",
    "        loss = loss_fn(y_pred, inp[:, :, :2])\n",
    "        \n",
    "        # backward\n",
    "        loss.backward()\n",
    "        optimizer.step()\n",
    "        optimizer.zero_grad()\n",
    "        \n",
    "        if i_batch % 200 == 0:\n",
    "            print(f\"Epoch {epoch+1}/{NUM_EPOCH}, batch {i_batch}/{len(train_loader)}, loss: {loss.item():.4f}\")\n",
    "        \n",
    "        # visualization\n",
    "        # show_sample_batch(sample_batch, agent_id)\n"
   ]
  },
  {
   "cell_type": "markdown",
   "metadata": {},
   "source": [
    "## Encoder Decoder (Seq2Seq)"
   ]
  },
  {
   "cell_type": "code",
   "execution_count": 158,
   "metadata": {},
   "outputs": [],
   "source": [
    "# training config\n",
    "NUM_EPOCH = 1\n",
    "BATCH_SIZE = 128\n",
    "LEARNING_RATE = 1e-3\n",
    "ROLLOUT_LEN = 30\n",
    "\n",
    "# model config\n",
    "INPUT_SIZE = 4\n",
    "EMBEDDING_SIZE = 8\n",
    "HIDDEN_SIZE = 16\n",
    "OUTPUT_SIZE = 2"
   ]
  },
  {
   "cell_type": "code",
   "execution_count": 43,
   "metadata": {},
   "outputs": [],
   "source": [
    "class EncoderLSTM(nn.Module):\n",
    "    def __init__(self, input_size, embedding_size=EMBEDDING_SIZE, hidden_size=HIDDEN_SIZE):\n",
    "        super(EncoderLSTM, self).__init__()\n",
    "        self.hidden_size = hidden_size\n",
    "\n",
    "        self.linear = nn.Linear(input_size, embedding_size)\n",
    "        self.lstm = nn.LSTMCell(embedding_size, hidden_size)\n",
    "\n",
    "    def init_hidden(self, batch_size, hidden_size):\n",
    "        # Initialize encoder hidden state\n",
    "        return (\n",
    "            torch.zeros(batch_size, hidden_size),\n",
    "            torch.zeros(batch_size, hidden_size),\n",
    "        )\n",
    "    \n",
    "    def forward(self, X):\n",
    "        init_hidden = self.init_hidden(X.shape[0], self.hidden_size)\n",
    "        \n",
    "        embedded = F.relu(self.linear(X))\n",
    "        hidden_state = self.lstm(embedded, init_hidden)\n",
    "        return hidden_state"
   ]
  },
  {
   "cell_type": "code",
   "execution_count": 63,
   "metadata": {},
   "outputs": [],
   "source": [
    "class DecoderLSTM(nn.Module):\n",
    "    def __init__(self, embedding_size=EMBEDDING_SIZE, hidden_size=HIDDEN_SIZE, output_size=OUTPUT_SIZE):\n",
    "        super(DecoderLSTM, self).__init__()\n",
    "        self.hidden_size = hidden_size\n",
    "        \n",
    "        self.linear1 = nn.Linear(output_size, embedding_size)\n",
    "        self.lstm1 = nn.LSTMCell(embedding_size, hidden_size)\n",
    "        self.linear2 = nn.Linear(hidden_size, output_size)\n",
    "\n",
    "    def forward(self, X, encoder_hidden):        \n",
    "        embedded = F.relu(self.linear1(X))\n",
    "        hidden = self.lstm1(embedded, encoder_hidden)\n",
    "        output = self.linear2(hidden[0])\n",
    "        return output, hidden\n"
   ]
  },
  {
   "cell_type": "code",
   "execution_count": 64,
   "metadata": {},
   "outputs": [],
   "source": [
    "# model training\n",
    "encoder = EncoderLSTM(INPUT_SIZE)\n",
    "decoder = DecoderLSTM()\n",
    "\n",
    "loss_fn = nn.MSELoss(reduction=\"mean\")\n",
    "encoder_optimizer = torch.optim.Adam(encoder.parameters(), lr=LEARNING_RATE)\n",
    "decoder_optimizer = torch.optim.Adam(decoder.parameters(), lr=LEARNING_RATE)"
   ]
  },
  {
   "cell_type": "code",
   "execution_count": 159,
   "metadata": {
    "tags": []
   },
   "outputs": [
    {
     "output_type": "stream",
     "name": "stdout",
     "text": [
      "Epoch 1/1, batch 0/3218, loss: 4385598.5000\n",
      "Epoch 1/1, batch 200/3218, loss: 3735017.7500\n",
      "Epoch 1/1, batch 400/3218, loss: 4243777.5000\n",
      "Epoch 1/1, batch 600/3218, loss: 4273490.0000\n"
     ]
    },
    {
     "output_type": "error",
     "ename": "KeyboardInterrupt",
     "evalue": "",
     "traceback": [
      "\u001b[0;31m---------------------------------------------------------------------------\u001b[0m",
      "\u001b[0;31mKeyboardInterrupt\u001b[0m                         Traceback (most recent call last)",
      "\u001b[0;32m<ipython-input-159-7e389dd05a85>\u001b[0m in \u001b[0;36m<module>\u001b[0;34m\u001b[0m\n\u001b[1;32m     19\u001b[0m         \u001b[0;32mfor\u001b[0m \u001b[0mi\u001b[0m \u001b[0;32min\u001b[0m \u001b[0mrange\u001b[0m\u001b[0;34m(\u001b[0m\u001b[0minput_length\u001b[0m\u001b[0;34m)\u001b[0m\u001b[0;34m:\u001b[0m\u001b[0;34m\u001b[0m\u001b[0;34m\u001b[0m\u001b[0m\n\u001b[1;32m     20\u001b[0m             \u001b[0mencoder_input\u001b[0m \u001b[0;34m=\u001b[0m \u001b[0minp\u001b[0m\u001b[0;34m[\u001b[0m\u001b[0;34m:\u001b[0m\u001b[0;34m,\u001b[0m \u001b[0mi\u001b[0m\u001b[0;34m,\u001b[0m \u001b[0;34m:\u001b[0m\u001b[0;34m]\u001b[0m\u001b[0;34m\u001b[0m\u001b[0;34m\u001b[0m\u001b[0m\n\u001b[0;32m---> 21\u001b[0;31m             \u001b[0mencoder_hidden\u001b[0m \u001b[0;34m=\u001b[0m \u001b[0mencoder\u001b[0m\u001b[0;34m(\u001b[0m\u001b[0mencoder_input\u001b[0m\u001b[0;34m)\u001b[0m\u001b[0;34m\u001b[0m\u001b[0;34m\u001b[0m\u001b[0m\n\u001b[0m\u001b[1;32m     22\u001b[0m \u001b[0;34m\u001b[0m\u001b[0m\n\u001b[1;32m     23\u001b[0m         \u001b[0;31m# Initialize decoder input with last coordinate in encoder\u001b[0m\u001b[0;34m\u001b[0m\u001b[0;34m\u001b[0m\u001b[0;34m\u001b[0m\u001b[0m\n",
      "\u001b[0;32m/Library/Frameworks/Python.framework/Versions/3.8/lib/python3.8/site-packages/torch/nn/modules/module.py\u001b[0m in \u001b[0;36m__call__\u001b[0;34m(self, *input, **kwargs)\u001b[0m\n\u001b[1;32m    548\u001b[0m             \u001b[0mresult\u001b[0m \u001b[0;34m=\u001b[0m \u001b[0mself\u001b[0m\u001b[0;34m.\u001b[0m\u001b[0m_slow_forward\u001b[0m\u001b[0;34m(\u001b[0m\u001b[0;34m*\u001b[0m\u001b[0minput\u001b[0m\u001b[0;34m,\u001b[0m \u001b[0;34m**\u001b[0m\u001b[0mkwargs\u001b[0m\u001b[0;34m)\u001b[0m\u001b[0;34m\u001b[0m\u001b[0;34m\u001b[0m\u001b[0m\n\u001b[1;32m    549\u001b[0m         \u001b[0;32melse\u001b[0m\u001b[0;34m:\u001b[0m\u001b[0;34m\u001b[0m\u001b[0;34m\u001b[0m\u001b[0m\n\u001b[0;32m--> 550\u001b[0;31m             \u001b[0mresult\u001b[0m \u001b[0;34m=\u001b[0m \u001b[0mself\u001b[0m\u001b[0;34m.\u001b[0m\u001b[0mforward\u001b[0m\u001b[0;34m(\u001b[0m\u001b[0;34m*\u001b[0m\u001b[0minput\u001b[0m\u001b[0;34m,\u001b[0m \u001b[0;34m**\u001b[0m\u001b[0mkwargs\u001b[0m\u001b[0;34m)\u001b[0m\u001b[0;34m\u001b[0m\u001b[0;34m\u001b[0m\u001b[0m\n\u001b[0m\u001b[1;32m    551\u001b[0m         \u001b[0;32mfor\u001b[0m \u001b[0mhook\u001b[0m \u001b[0;32min\u001b[0m \u001b[0mself\u001b[0m\u001b[0;34m.\u001b[0m\u001b[0m_forward_hooks\u001b[0m\u001b[0;34m.\u001b[0m\u001b[0mvalues\u001b[0m\u001b[0;34m(\u001b[0m\u001b[0;34m)\u001b[0m\u001b[0;34m:\u001b[0m\u001b[0;34m\u001b[0m\u001b[0;34m\u001b[0m\u001b[0m\n\u001b[1;32m    552\u001b[0m             \u001b[0mhook_result\u001b[0m \u001b[0;34m=\u001b[0m \u001b[0mhook\u001b[0m\u001b[0;34m(\u001b[0m\u001b[0mself\u001b[0m\u001b[0;34m,\u001b[0m \u001b[0minput\u001b[0m\u001b[0;34m,\u001b[0m \u001b[0mresult\u001b[0m\u001b[0;34m)\u001b[0m\u001b[0;34m\u001b[0m\u001b[0;34m\u001b[0m\u001b[0m\n",
      "\u001b[0;32m<ipython-input-43-6e1f49381f0b>\u001b[0m in \u001b[0;36mforward\u001b[0;34m(self, X)\u001b[0m\n\u001b[1;32m     18\u001b[0m \u001b[0;34m\u001b[0m\u001b[0m\n\u001b[1;32m     19\u001b[0m         \u001b[0membedded\u001b[0m \u001b[0;34m=\u001b[0m \u001b[0mF\u001b[0m\u001b[0;34m.\u001b[0m\u001b[0mrelu\u001b[0m\u001b[0;34m(\u001b[0m\u001b[0mself\u001b[0m\u001b[0;34m.\u001b[0m\u001b[0mlinear\u001b[0m\u001b[0;34m(\u001b[0m\u001b[0mX\u001b[0m\u001b[0;34m)\u001b[0m\u001b[0;34m)\u001b[0m\u001b[0;34m\u001b[0m\u001b[0;34m\u001b[0m\u001b[0m\n\u001b[0;32m---> 20\u001b[0;31m         \u001b[0mhidden_state\u001b[0m \u001b[0;34m=\u001b[0m \u001b[0mself\u001b[0m\u001b[0;34m.\u001b[0m\u001b[0mlstm\u001b[0m\u001b[0;34m(\u001b[0m\u001b[0membedded\u001b[0m\u001b[0;34m,\u001b[0m \u001b[0minit_hidden\u001b[0m\u001b[0;34m)\u001b[0m\u001b[0;34m\u001b[0m\u001b[0;34m\u001b[0m\u001b[0m\n\u001b[0m\u001b[1;32m     21\u001b[0m         \u001b[0;32mreturn\u001b[0m \u001b[0mhidden_state\u001b[0m\u001b[0;34m\u001b[0m\u001b[0;34m\u001b[0m\u001b[0m\n",
      "\u001b[0;32m/Library/Frameworks/Python.framework/Versions/3.8/lib/python3.8/site-packages/torch/nn/modules/module.py\u001b[0m in \u001b[0;36m__call__\u001b[0;34m(self, *input, **kwargs)\u001b[0m\n\u001b[1;32m    548\u001b[0m             \u001b[0mresult\u001b[0m \u001b[0;34m=\u001b[0m \u001b[0mself\u001b[0m\u001b[0;34m.\u001b[0m\u001b[0m_slow_forward\u001b[0m\u001b[0;34m(\u001b[0m\u001b[0;34m*\u001b[0m\u001b[0minput\u001b[0m\u001b[0;34m,\u001b[0m \u001b[0;34m**\u001b[0m\u001b[0mkwargs\u001b[0m\u001b[0;34m)\u001b[0m\u001b[0;34m\u001b[0m\u001b[0;34m\u001b[0m\u001b[0m\n\u001b[1;32m    549\u001b[0m         \u001b[0;32melse\u001b[0m\u001b[0;34m:\u001b[0m\u001b[0;34m\u001b[0m\u001b[0;34m\u001b[0m\u001b[0m\n\u001b[0;32m--> 550\u001b[0;31m             \u001b[0mresult\u001b[0m \u001b[0;34m=\u001b[0m \u001b[0mself\u001b[0m\u001b[0;34m.\u001b[0m\u001b[0mforward\u001b[0m\u001b[0;34m(\u001b[0m\u001b[0;34m*\u001b[0m\u001b[0minput\u001b[0m\u001b[0;34m,\u001b[0m \u001b[0;34m**\u001b[0m\u001b[0mkwargs\u001b[0m\u001b[0;34m)\u001b[0m\u001b[0;34m\u001b[0m\u001b[0;34m\u001b[0m\u001b[0m\n\u001b[0m\u001b[1;32m    551\u001b[0m         \u001b[0;32mfor\u001b[0m \u001b[0mhook\u001b[0m \u001b[0;32min\u001b[0m \u001b[0mself\u001b[0m\u001b[0;34m.\u001b[0m\u001b[0m_forward_hooks\u001b[0m\u001b[0;34m.\u001b[0m\u001b[0mvalues\u001b[0m\u001b[0;34m(\u001b[0m\u001b[0;34m)\u001b[0m\u001b[0;34m:\u001b[0m\u001b[0;34m\u001b[0m\u001b[0;34m\u001b[0m\u001b[0m\n\u001b[1;32m    552\u001b[0m             \u001b[0mhook_result\u001b[0m \u001b[0;34m=\u001b[0m \u001b[0mhook\u001b[0m\u001b[0;34m(\u001b[0m\u001b[0mself\u001b[0m\u001b[0;34m,\u001b[0m \u001b[0minput\u001b[0m\u001b[0;34m,\u001b[0m \u001b[0mresult\u001b[0m\u001b[0;34m)\u001b[0m\u001b[0;34m\u001b[0m\u001b[0;34m\u001b[0m\u001b[0m\n",
      "\u001b[0;32m/Library/Frameworks/Python.framework/Versions/3.8/lib/python3.8/site-packages/torch/nn/modules/rnn.py\u001b[0m in \u001b[0;36mforward\u001b[0;34m(self, input, hx)\u001b[0m\n\u001b[1;32m    950\u001b[0m         \u001b[0mself\u001b[0m\u001b[0;34m.\u001b[0m\u001b[0mcheck_forward_hidden\u001b[0m\u001b[0;34m(\u001b[0m\u001b[0minput\u001b[0m\u001b[0;34m,\u001b[0m \u001b[0mhx\u001b[0m\u001b[0;34m[\u001b[0m\u001b[0;36m0\u001b[0m\u001b[0;34m]\u001b[0m\u001b[0;34m,\u001b[0m \u001b[0;34m'[0]'\u001b[0m\u001b[0;34m)\u001b[0m\u001b[0;34m\u001b[0m\u001b[0;34m\u001b[0m\u001b[0m\n\u001b[1;32m    951\u001b[0m         \u001b[0mself\u001b[0m\u001b[0;34m.\u001b[0m\u001b[0mcheck_forward_hidden\u001b[0m\u001b[0;34m(\u001b[0m\u001b[0minput\u001b[0m\u001b[0;34m,\u001b[0m \u001b[0mhx\u001b[0m\u001b[0;34m[\u001b[0m\u001b[0;36m1\u001b[0m\u001b[0;34m]\u001b[0m\u001b[0;34m,\u001b[0m \u001b[0;34m'[1]'\u001b[0m\u001b[0;34m)\u001b[0m\u001b[0;34m\u001b[0m\u001b[0;34m\u001b[0m\u001b[0m\n\u001b[0;32m--> 952\u001b[0;31m         return _VF.lstm_cell(\n\u001b[0m\u001b[1;32m    953\u001b[0m             \u001b[0minput\u001b[0m\u001b[0;34m,\u001b[0m \u001b[0mhx\u001b[0m\u001b[0;34m,\u001b[0m\u001b[0;34m\u001b[0m\u001b[0;34m\u001b[0m\u001b[0m\n\u001b[1;32m    954\u001b[0m             \u001b[0mself\u001b[0m\u001b[0;34m.\u001b[0m\u001b[0mweight_ih\u001b[0m\u001b[0;34m,\u001b[0m \u001b[0mself\u001b[0m\u001b[0;34m.\u001b[0m\u001b[0mweight_hh\u001b[0m\u001b[0;34m,\u001b[0m\u001b[0;34m\u001b[0m\u001b[0;34m\u001b[0m\u001b[0m\n",
      "\u001b[0;31mKeyboardInterrupt\u001b[0m: "
     ]
    }
   ],
   "source": [
    "for epoch in range(NUM_EPOCH):\n",
    "    for i_batch, batch_data in enumerate(train_loader):\n",
    "        inp, out = batch_data\n",
    "\n",
    "        # Initialize losses\n",
    "        loss = 0\n",
    "\n",
    "        # Encoder\n",
    "        batch_size = inp.shape[0]\n",
    "        input_length = inp.shape[1]\n",
    "        output_length = out.shape[1]\n",
    "        input_shape = inp.shape[2]\n",
    "\n",
    "        # Get relative position\n",
    "        initial_p_in = inp[:, 0, :2].detach().clone()\n",
    "        inp[:, :, :2] = inp[:, :, :2] - initial_p_in[:, None]\n",
    "        \n",
    "        # Encode observed trajectory\n",
    "        for i in range(input_length):\n",
    "            encoder_input = inp[:, i, :]\n",
    "            encoder_hidden = encoder(encoder_input)\n",
    "        \n",
    "        # Initialize decoder input with last coordinate in encoder\n",
    "        decoder_hidden = encoder_hidden\n",
    "        decoder_input = encoder_input[:, :2]\n",
    "        decoder_outputs = torch.zeros(out.shape)\n",
    "\n",
    "        # Decode hidden state in future trajectory\n",
    "        for i in range(output_length):\n",
    "            decoder_output, decoder_hidden = decoder(decoder_input, encoder_hidden)\n",
    "            decoder_outputs[:, i, :] = decoder_output\n",
    "\n",
    "            # Update loss\n",
    "            loss += loss_fn(decoder_output[:, :2], out[:, i, :2] - initial_p_in)\n",
    "\n",
    "            # Use own predictions as inputs at next step\n",
    "            decoder_input = decoder_output\n",
    "\n",
    "        # Get average loss for pred_len\n",
    "        loss = loss / output_length\n",
    "\n",
    "        # Backpropagate\n",
    "        loss.backward()\n",
    "        encoder_optimizer.step()\n",
    "        decoder_optimizer.step()\n",
    "        encoder_optimizer.zero_grad()\n",
    "        decoder_optimizer.zero_grad()\n",
    "\n",
    "        if i_batch % 200 == 0:\n",
    "            print(f\"Epoch {epoch+1}/{NUM_EPOCH}, batch {i_batch}/{len(train_loader)}, loss: {loss.item():.4f}\")\n",
    "        "
   ]
  },
  {
   "cell_type": "code",
   "execution_count": 161,
   "metadata": {},
   "outputs": [
    {
     "output_type": "execute_result",
     "data": {
      "text/plain": [
       "tensor([ 753.5497, 1672.8301])"
      ]
     },
     "metadata": {},
     "execution_count": 161
    }
   ],
   "source": [
    "initial_p_in[6]"
   ]
  },
  {
   "cell_type": "code",
   "execution_count": 172,
   "metadata": {},
   "outputs": [
    {
     "output_type": "execute_result",
     "data": {
      "text/plain": [
       "tensor([[127.4644, 127.3252],\n",
       "        [127.4642, 127.3251],\n",
       "        [127.4644, 127.3252],\n",
       "        [127.4644, 127.3252],\n",
       "        [127.4644, 127.3252],\n",
       "        [127.4643, 127.3252],\n",
       "        [127.4644, 127.3252],\n",
       "        [127.4643, 127.3252],\n",
       "        [127.4644, 127.3252],\n",
       "        [127.4644, 127.3252],\n",
       "        [127.4643, 127.3252],\n",
       "        [127.4644, 127.3252],\n",
       "        [127.4644, 127.3252],\n",
       "        [127.4644, 127.3252],\n",
       "        [127.4644, 127.3252],\n",
       "        [127.4644, 127.3252],\n",
       "        [127.4644, 127.3252],\n",
       "        [127.4644, 127.3252],\n",
       "        [127.4644, 127.3252],\n",
       "        [127.4641, 127.3250],\n",
       "        [127.4644, 127.3252],\n",
       "        [127.4644, 127.3252],\n",
       "        [127.4644, 127.3252],\n",
       "        [127.4644, 127.3252],\n",
       "        [127.4644, 127.3252],\n",
       "        [127.4644, 127.3252],\n",
       "        [127.4644, 127.3252],\n",
       "        [127.4644, 127.3252],\n",
       "        [127.4644, 127.3252],\n",
       "        [127.4619, 127.3227],\n",
       "        [127.4643, 127.3252],\n",
       "        [127.4644, 127.3252],\n",
       "        [127.4644, 127.3252],\n",
       "        [127.4644, 127.3252],\n",
       "        [127.4644, 127.3252],\n",
       "        [127.4644, 127.3252],\n",
       "        [127.4644, 127.3252],\n",
       "        [127.4643, 127.3252],\n",
       "        [127.4641, 127.3249],\n",
       "        [127.4644, 127.3252],\n",
       "        [127.4644, 127.3252],\n",
       "        [127.4644, 127.3252],\n",
       "        [127.4644, 127.3252],\n",
       "        [127.4644, 127.3252],\n",
       "        [127.4643, 127.3252],\n",
       "        [127.4644, 127.3252],\n",
       "        [127.4644, 127.3252],\n",
       "        [127.4644, 127.3252],\n",
       "        [127.4644, 127.3252],\n",
       "        [127.4644, 127.3252],\n",
       "        [127.4644, 127.3252],\n",
       "        [127.4644, 127.3252],\n",
       "        [127.4644, 127.3252],\n",
       "        [127.4640, 127.3249],\n",
       "        [127.4644, 127.3252],\n",
       "        [127.4644, 127.3252],\n",
       "        [127.4643, 127.3252],\n",
       "        [127.4643, 127.3252],\n",
       "        [127.4643, 127.3252],\n",
       "        [127.4644, 127.3252],\n",
       "        [127.4641, 127.3250],\n",
       "        [127.4644, 127.3252],\n",
       "        [127.4644, 127.3252],\n",
       "        [127.4644, 127.3252]], grad_fn=<AddmmBackward>)"
      ]
     },
     "metadata": {},
     "execution_count": 172
    }
   ],
   "source": [
    "decoder_input"
   ]
  },
  {
   "cell_type": "code",
   "execution_count": 163,
   "metadata": {},
   "outputs": [
    {
     "output_type": "execute_result",
     "data": {
      "text/plain": [
       "tensor([[ 736.9389, 1672.0554],\n",
       "        [ 736.1733, 1672.0210],\n",
       "        [ 734.3145, 1671.9967],\n",
       "        [ 733.7044, 1671.7981],\n",
       "        [ 732.7556, 1671.7660],\n",
       "        [ 731.9318, 1671.7726],\n",
       "        [ 730.9580, 1671.7212],\n",
       "        [ 730.9580, 1671.7212],\n",
       "        [ 729.2341, 1671.6437],\n",
       "        [ 728.2950, 1671.6367],\n",
       "        [ 727.4012, 1671.5852],\n",
       "        [ 726.5402, 1671.5430],\n",
       "        [ 725.5793, 1671.5128],\n",
       "        [ 724.6547, 1671.4709],\n",
       "        [ 723.7803, 1671.4264],\n",
       "        [ 722.8222, 1671.4019],\n",
       "        [ 721.9526, 1671.3153],\n",
       "        [ 721.3202, 1671.1366],\n",
       "        [ 720.2152, 1671.2380],\n",
       "        [ 719.3371, 1671.2791],\n",
       "        [ 718.3492, 1671.2631],\n",
       "        [ 717.4954, 1671.2170],\n",
       "        [ 716.5472, 1671.2205],\n",
       "        [ 715.9681, 1670.9893],\n",
       "        [ 715.0989, 1670.9535],\n",
       "        [ 714.2052, 1670.9545],\n",
       "        [ 713.5739, 1670.9510],\n",
       "        [ 712.3006, 1670.8611],\n",
       "        [ 711.3686, 1670.9117],\n",
       "        [ 710.6022, 1670.8773]])"
      ]
     },
     "metadata": {},
     "execution_count": 163
    }
   ],
   "source": [
    "out[6]"
   ]
  },
  {
   "cell_type": "markdown",
   "metadata": {},
   "source": [
    "# Submission"
   ]
  },
  {
   "cell_type": "code",
   "execution_count": 272,
   "metadata": {},
   "outputs": [],
   "source": [
    "df['ID'] = submission['ID']\n",
    "cols = df.columns[-1:].tolist() + df.columns[:-1].tolist()\n",
    "df = df[cols]"
   ]
  },
  {
   "cell_type": "code",
   "execution_count": 273,
   "metadata": {},
   "outputs": [],
   "source": [
    "from datetime import datetime\n",
    "def save_submission(df, filename):\n",
    "    filename = filename + \"_\" + str(datetime.now()) + \".csv\"\n",
    "    file_path = os.path.join(submission_dir, filename)\n",
    "    df.to_csv(file_path, index=False)"
   ]
  },
  {
   "cell_type": "code",
   "execution_count": 274,
   "metadata": {},
   "outputs": [],
   "source": [
    "save_submission(df, \"constant_velocity\")"
   ]
  },
  {
   "cell_type": "code",
   "execution_count": 239,
   "metadata": {},
   "outputs": [
    {
     "data": {
      "text/html": [
       "<div>\n",
       "<style scoped>\n",
       "    .dataframe tbody tr th:only-of-type {\n",
       "        vertical-align: middle;\n",
       "    }\n",
       "\n",
       "    .dataframe tbody tr th {\n",
       "        vertical-align: top;\n",
       "    }\n",
       "\n",
       "    .dataframe thead th {\n",
       "        text-align: right;\n",
       "    }\n",
       "</style>\n",
       "<table border=\"1\" class=\"dataframe\">\n",
       "  <thead>\n",
       "    <tr style=\"text-align: right;\">\n",
       "      <th></th>\n",
       "      <th>ID</th>\n",
       "      <th>v1</th>\n",
       "      <th>v2</th>\n",
       "      <th>v3</th>\n",
       "      <th>v4</th>\n",
       "      <th>v5</th>\n",
       "      <th>v6</th>\n",
       "      <th>v7</th>\n",
       "      <th>v8</th>\n",
       "      <th>v9</th>\n",
       "      <th>...</th>\n",
       "      <th>v51</th>\n",
       "      <th>v52</th>\n",
       "      <th>v53</th>\n",
       "      <th>v54</th>\n",
       "      <th>v55</th>\n",
       "      <th>v56</th>\n",
       "      <th>v57</th>\n",
       "      <th>v58</th>\n",
       "      <th>v59</th>\n",
       "      <th>v60</th>\n",
       "    </tr>\n",
       "  </thead>\n",
       "  <tbody>\n",
       "    <tr>\n",
       "      <th>0</th>\n",
       "      <td>10002</td>\n",
       "      <td>1713.862671</td>\n",
       "      <td>336.298737</td>\n",
       "      <td>1713.862671</td>\n",
       "      <td>336.298737</td>\n",
       "      <td>1713.862671</td>\n",
       "      <td>336.298737</td>\n",
       "      <td>1713.862671</td>\n",
       "      <td>336.298737</td>\n",
       "      <td>1713.862671</td>\n",
       "      <td>...</td>\n",
       "      <td>1713.862671</td>\n",
       "      <td>336.298737</td>\n",
       "      <td>1713.862671</td>\n",
       "      <td>336.298737</td>\n",
       "      <td>1713.862671</td>\n",
       "      <td>336.298737</td>\n",
       "      <td>1713.862671</td>\n",
       "      <td>336.298737</td>\n",
       "      <td>1713.862671</td>\n",
       "      <td>336.298737</td>\n",
       "    </tr>\n",
       "    <tr>\n",
       "      <th>1</th>\n",
       "      <td>10015</td>\n",
       "      <td>725.536499</td>\n",
       "      <td>1229.961182</td>\n",
       "      <td>725.536499</td>\n",
       "      <td>1229.961182</td>\n",
       "      <td>725.536499</td>\n",
       "      <td>1229.961182</td>\n",
       "      <td>725.536499</td>\n",
       "      <td>1229.961182</td>\n",
       "      <td>725.536499</td>\n",
       "      <td>...</td>\n",
       "      <td>725.536499</td>\n",
       "      <td>1229.961182</td>\n",
       "      <td>725.536499</td>\n",
       "      <td>1229.961182</td>\n",
       "      <td>725.536499</td>\n",
       "      <td>1229.961182</td>\n",
       "      <td>725.536499</td>\n",
       "      <td>1229.961182</td>\n",
       "      <td>725.536499</td>\n",
       "      <td>1229.961182</td>\n",
       "    </tr>\n",
       "    <tr>\n",
       "      <th>2</th>\n",
       "      <td>10019</td>\n",
       "      <td>573.804321</td>\n",
       "      <td>1244.689453</td>\n",
       "      <td>573.804321</td>\n",
       "      <td>1244.689453</td>\n",
       "      <td>573.804321</td>\n",
       "      <td>1244.689453</td>\n",
       "      <td>573.804321</td>\n",
       "      <td>1244.689453</td>\n",
       "      <td>573.804321</td>\n",
       "      <td>...</td>\n",
       "      <td>573.804321</td>\n",
       "      <td>1244.689453</td>\n",
       "      <td>573.804321</td>\n",
       "      <td>1244.689453</td>\n",
       "      <td>573.804321</td>\n",
       "      <td>1244.689453</td>\n",
       "      <td>573.804321</td>\n",
       "      <td>1244.689453</td>\n",
       "      <td>573.804321</td>\n",
       "      <td>1244.689453</td>\n",
       "    </tr>\n",
       "    <tr>\n",
       "      <th>3</th>\n",
       "      <td>10028</td>\n",
       "      <td>1690.753540</td>\n",
       "      <td>315.093414</td>\n",
       "      <td>1690.753540</td>\n",
       "      <td>315.093414</td>\n",
       "      <td>1690.753540</td>\n",
       "      <td>315.093414</td>\n",
       "      <td>1690.753540</td>\n",
       "      <td>315.093414</td>\n",
       "      <td>1690.753540</td>\n",
       "      <td>...</td>\n",
       "      <td>1690.753540</td>\n",
       "      <td>315.093414</td>\n",
       "      <td>1690.753540</td>\n",
       "      <td>315.093414</td>\n",
       "      <td>1690.753540</td>\n",
       "      <td>315.093414</td>\n",
       "      <td>1690.753540</td>\n",
       "      <td>315.093414</td>\n",
       "      <td>1690.753540</td>\n",
       "      <td>315.093414</td>\n",
       "    </tr>\n",
       "    <tr>\n",
       "      <th>4</th>\n",
       "      <td>1003</td>\n",
       "      <td>2124.079834</td>\n",
       "      <td>678.186646</td>\n",
       "      <td>2124.079834</td>\n",
       "      <td>678.186646</td>\n",
       "      <td>2124.079834</td>\n",
       "      <td>678.186646</td>\n",
       "      <td>2124.079834</td>\n",
       "      <td>678.186646</td>\n",
       "      <td>2124.079834</td>\n",
       "      <td>...</td>\n",
       "      <td>2124.079834</td>\n",
       "      <td>678.186646</td>\n",
       "      <td>2124.079834</td>\n",
       "      <td>678.186646</td>\n",
       "      <td>2124.079834</td>\n",
       "      <td>678.186646</td>\n",
       "      <td>2124.079834</td>\n",
       "      <td>678.186646</td>\n",
       "      <td>2124.079834</td>\n",
       "      <td>678.186646</td>\n",
       "    </tr>\n",
       "    <tr>\n",
       "      <th>...</th>\n",
       "      <td>...</td>\n",
       "      <td>...</td>\n",
       "      <td>...</td>\n",
       "      <td>...</td>\n",
       "      <td>...</td>\n",
       "      <td>...</td>\n",
       "      <td>...</td>\n",
       "      <td>...</td>\n",
       "      <td>...</td>\n",
       "      <td>...</td>\n",
       "      <td>...</td>\n",
       "      <td>...</td>\n",
       "      <td>...</td>\n",
       "      <td>...</td>\n",
       "      <td>...</td>\n",
       "      <td>...</td>\n",
       "      <td>...</td>\n",
       "      <td>...</td>\n",
       "      <td>...</td>\n",
       "      <td>...</td>\n",
       "      <td>...</td>\n",
       "    </tr>\n",
       "    <tr>\n",
       "      <th>3195</th>\n",
       "      <td>9897</td>\n",
       "      <td>256.193787</td>\n",
       "      <td>805.615295</td>\n",
       "      <td>256.193787</td>\n",
       "      <td>805.615295</td>\n",
       "      <td>256.193787</td>\n",
       "      <td>805.615295</td>\n",
       "      <td>256.193787</td>\n",
       "      <td>805.615295</td>\n",
       "      <td>256.193787</td>\n",
       "      <td>...</td>\n",
       "      <td>256.193787</td>\n",
       "      <td>805.615295</td>\n",
       "      <td>256.193787</td>\n",
       "      <td>805.615295</td>\n",
       "      <td>256.193787</td>\n",
       "      <td>805.615295</td>\n",
       "      <td>256.193787</td>\n",
       "      <td>805.615295</td>\n",
       "      <td>256.193787</td>\n",
       "      <td>805.615295</td>\n",
       "    </tr>\n",
       "    <tr>\n",
       "      <th>3196</th>\n",
       "      <td>99</td>\n",
       "      <td>587.835754</td>\n",
       "      <td>1154.503662</td>\n",
       "      <td>587.835754</td>\n",
       "      <td>1154.503662</td>\n",
       "      <td>587.835754</td>\n",
       "      <td>1154.503662</td>\n",
       "      <td>587.835754</td>\n",
       "      <td>1154.503662</td>\n",
       "      <td>587.835754</td>\n",
       "      <td>...</td>\n",
       "      <td>587.835754</td>\n",
       "      <td>1154.503662</td>\n",
       "      <td>587.835754</td>\n",
       "      <td>1154.503662</td>\n",
       "      <td>587.835754</td>\n",
       "      <td>1154.503662</td>\n",
       "      <td>587.835754</td>\n",
       "      <td>1154.503662</td>\n",
       "      <td>587.835754</td>\n",
       "      <td>1154.503662</td>\n",
       "    </tr>\n",
       "    <tr>\n",
       "      <th>3197</th>\n",
       "      <td>9905</td>\n",
       "      <td>1755.736572</td>\n",
       "      <td>443.865265</td>\n",
       "      <td>1755.736572</td>\n",
       "      <td>443.865265</td>\n",
       "      <td>1755.736572</td>\n",
       "      <td>443.865265</td>\n",
       "      <td>1755.736572</td>\n",
       "      <td>443.865265</td>\n",
       "      <td>1755.736572</td>\n",
       "      <td>...</td>\n",
       "      <td>1755.736572</td>\n",
       "      <td>443.865265</td>\n",
       "      <td>1755.736572</td>\n",
       "      <td>443.865265</td>\n",
       "      <td>1755.736572</td>\n",
       "      <td>443.865265</td>\n",
       "      <td>1755.736572</td>\n",
       "      <td>443.865265</td>\n",
       "      <td>1755.736572</td>\n",
       "      <td>443.865265</td>\n",
       "    </tr>\n",
       "    <tr>\n",
       "      <th>3198</th>\n",
       "      <td>9910</td>\n",
       "      <td>574.704407</td>\n",
       "      <td>1289.077393</td>\n",
       "      <td>574.704407</td>\n",
       "      <td>1289.077393</td>\n",
       "      <td>574.704407</td>\n",
       "      <td>1289.077393</td>\n",
       "      <td>574.704407</td>\n",
       "      <td>1289.077393</td>\n",
       "      <td>574.704407</td>\n",
       "      <td>...</td>\n",
       "      <td>574.704407</td>\n",
       "      <td>1289.077393</td>\n",
       "      <td>574.704407</td>\n",
       "      <td>1289.077393</td>\n",
       "      <td>574.704407</td>\n",
       "      <td>1289.077393</td>\n",
       "      <td>574.704407</td>\n",
       "      <td>1289.077393</td>\n",
       "      <td>574.704407</td>\n",
       "      <td>1289.077393</td>\n",
       "    </tr>\n",
       "    <tr>\n",
       "      <th>3199</th>\n",
       "      <td>9918</td>\n",
       "      <td>584.649658</td>\n",
       "      <td>1165.738037</td>\n",
       "      <td>584.649658</td>\n",
       "      <td>1165.738037</td>\n",
       "      <td>584.649658</td>\n",
       "      <td>1165.738037</td>\n",
       "      <td>584.649658</td>\n",
       "      <td>1165.738037</td>\n",
       "      <td>584.649658</td>\n",
       "      <td>...</td>\n",
       "      <td>584.649658</td>\n",
       "      <td>1165.738037</td>\n",
       "      <td>584.649658</td>\n",
       "      <td>1165.738037</td>\n",
       "      <td>584.649658</td>\n",
       "      <td>1165.738037</td>\n",
       "      <td>584.649658</td>\n",
       "      <td>1165.738037</td>\n",
       "      <td>584.649658</td>\n",
       "      <td>1165.738037</td>\n",
       "    </tr>\n",
       "  </tbody>\n",
       "</table>\n",
       "<p>3200 rows × 61 columns</p>\n",
       "</div>"
      ],
      "text/plain": [
       "         ID           v1           v2           v3           v4           v5  \\\n",
       "0     10002  1713.862671   336.298737  1713.862671   336.298737  1713.862671   \n",
       "1     10015   725.536499  1229.961182   725.536499  1229.961182   725.536499   \n",
       "2     10019   573.804321  1244.689453   573.804321  1244.689453   573.804321   \n",
       "3     10028  1690.753540   315.093414  1690.753540   315.093414  1690.753540   \n",
       "4      1003  2124.079834   678.186646  2124.079834   678.186646  2124.079834   \n",
       "...     ...          ...          ...          ...          ...          ...   \n",
       "3195   9897   256.193787   805.615295   256.193787   805.615295   256.193787   \n",
       "3196     99   587.835754  1154.503662   587.835754  1154.503662   587.835754   \n",
       "3197   9905  1755.736572   443.865265  1755.736572   443.865265  1755.736572   \n",
       "3198   9910   574.704407  1289.077393   574.704407  1289.077393   574.704407   \n",
       "3199   9918   584.649658  1165.738037   584.649658  1165.738037   584.649658   \n",
       "\n",
       "               v6           v7           v8           v9  ...          v51  \\\n",
       "0      336.298737  1713.862671   336.298737  1713.862671  ...  1713.862671   \n",
       "1     1229.961182   725.536499  1229.961182   725.536499  ...   725.536499   \n",
       "2     1244.689453   573.804321  1244.689453   573.804321  ...   573.804321   \n",
       "3      315.093414  1690.753540   315.093414  1690.753540  ...  1690.753540   \n",
       "4      678.186646  2124.079834   678.186646  2124.079834  ...  2124.079834   \n",
       "...           ...          ...          ...          ...  ...          ...   \n",
       "3195   805.615295   256.193787   805.615295   256.193787  ...   256.193787   \n",
       "3196  1154.503662   587.835754  1154.503662   587.835754  ...   587.835754   \n",
       "3197   443.865265  1755.736572   443.865265  1755.736572  ...  1755.736572   \n",
       "3198  1289.077393   574.704407  1289.077393   574.704407  ...   574.704407   \n",
       "3199  1165.738037   584.649658  1165.738037   584.649658  ...   584.649658   \n",
       "\n",
       "              v52          v53          v54          v55          v56  \\\n",
       "0      336.298737  1713.862671   336.298737  1713.862671   336.298737   \n",
       "1     1229.961182   725.536499  1229.961182   725.536499  1229.961182   \n",
       "2     1244.689453   573.804321  1244.689453   573.804321  1244.689453   \n",
       "3      315.093414  1690.753540   315.093414  1690.753540   315.093414   \n",
       "4      678.186646  2124.079834   678.186646  2124.079834   678.186646   \n",
       "...           ...          ...          ...          ...          ...   \n",
       "3195   805.615295   256.193787   805.615295   256.193787   805.615295   \n",
       "3196  1154.503662   587.835754  1154.503662   587.835754  1154.503662   \n",
       "3197   443.865265  1755.736572   443.865265  1755.736572   443.865265   \n",
       "3198  1289.077393   574.704407  1289.077393   574.704407  1289.077393   \n",
       "3199  1165.738037   584.649658  1165.738037   584.649658  1165.738037   \n",
       "\n",
       "              v57          v58          v59          v60  \n",
       "0     1713.862671   336.298737  1713.862671   336.298737  \n",
       "1      725.536499  1229.961182   725.536499  1229.961182  \n",
       "2      573.804321  1244.689453   573.804321  1244.689453  \n",
       "3     1690.753540   315.093414  1690.753540   315.093414  \n",
       "4     2124.079834   678.186646  2124.079834   678.186646  \n",
       "...           ...          ...          ...          ...  \n",
       "3195   256.193787   805.615295   256.193787   805.615295  \n",
       "3196   587.835754  1154.503662   587.835754  1154.503662  \n",
       "3197  1755.736572   443.865265  1755.736572   443.865265  \n",
       "3198   574.704407  1289.077393   574.704407  1289.077393  \n",
       "3199   584.649658  1165.738037   584.649658  1165.738037  \n",
       "\n",
       "[3200 rows x 61 columns]"
      ]
     },
     "execution_count": 239,
     "metadata": {},
     "output_type": "execute_result"
    }
   ],
   "source": [
    "df"
   ]
  },
  {
   "cell_type": "code",
   "execution_count": null,
   "metadata": {},
   "outputs": [],
   "source": []
  },
  {
   "cell_type": "code",
   "execution_count": null,
   "metadata": {},
   "outputs": [],
   "source": []
  }
 ],
 "metadata": {
  "kernelspec": {
   "display_name": "Python 3",
   "language": "python",
   "name": "python3"
  },
  "language_info": {
   "codemirror_mode": {
    "name": "ipython",
    "version": 3
   },
   "file_extension": ".py",
   "mimetype": "text/x-python",
   "name": "python",
   "nbconvert_exporter": "python",
   "pygments_lexer": "ipython3",
   "version": "3.8.2"
  },
  "toc": {
   "base_numbering": 1,
   "nav_menu": {},
   "number_sections": true,
   "sideBar": true,
   "skip_h1_title": false,
   "title_cell": "Table of Contents",
   "title_sidebar": "Contents",
   "toc_cell": false,
   "toc_position": {},
   "toc_section_display": true,
   "toc_window_display": false
  },
  "varInspector": {
   "cols": {
    "lenName": 16,
    "lenType": 16,
    "lenVar": 40
   },
   "kernels_config": {
    "python": {
     "delete_cmd_postfix": "",
     "delete_cmd_prefix": "del ",
     "library": "var_list.py",
     "varRefreshCmd": "print(var_dic_list())"
    },
    "r": {
     "delete_cmd_postfix": ") ",
     "delete_cmd_prefix": "rm(",
     "library": "var_list.r",
     "varRefreshCmd": "cat(var_dic_list()) "
    }
   },
   "types_to_exclude": [
    "module",
    "function",
    "builtin_function_or_method",
    "instance",
    "_Feature"
   ],
   "window_display": false
  }
 },
 "nbformat": 4,
 "nbformat_minor": 4
}